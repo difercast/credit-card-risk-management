{
 "metadata": {
  "language_info": {
   "codemirror_mode": {
    "name": "ipython",
    "version": 3
   },
   "file_extension": ".py",
   "mimetype": "text/x-python",
   "name": "python",
   "nbconvert_exporter": "python",
   "pygments_lexer": "ipython3",
   "version": "3.7.6"
  },
  "orig_nbformat": 2,
  "kernelspec": {
   "name": "python3",
   "display_name": "Python 3.7.6 64-bit ('base': conda)"
  },
  "metadata": {
   "interpreter": {
    "hash": "9ce43836c8d3287a06e199a1efd6974587c1d8c7cdf961feda0708cd09e2869c"
   }
  },
  "interpreter": {
   "hash": "b3ba2566441a7c06988d0923437866b63cedc61552a5af99d1f4fb67d367b25f"
  }
 },
 "nbformat": 4,
 "nbformat_minor": 2,
 "cells": [
  {
   "source": [
    "## Librerías y Paquetes"
   ],
   "cell_type": "markdown",
   "metadata": {}
  },
  {
   "cell_type": "code",
   "execution_count": 1,
   "metadata": {},
   "outputs": [],
   "source": [
    "import pandas as pd \n",
    "import numpy as np\n",
    "\n",
    "pd.options.display.float_format = '{:,.2f}'.format"
   ]
  },
  {
   "source": [
    "## 1. Carga de los dataset"
   ],
   "cell_type": "markdown",
   "metadata": {}
  },
  {
   "source": [
    "credit_df = pd.read_csv(\"../data/credit_record.csv\")\n",
    "credit_df"
   ],
   "cell_type": "code",
   "metadata": {},
   "execution_count": 9,
   "outputs": [
    {
     "output_type": "execute_result",
     "data": {
      "text/plain": [
       "              ID  MONTHS_BALANCE STATUS\n",
       "0        5001711               0      X\n",
       "1        5001711              -1      0\n",
       "2        5001711              -2      0\n",
       "3        5001711              -3      0\n",
       "4        5001712               0      C\n",
       "...          ...             ...    ...\n",
       "1048570  5150487             -25      C\n",
       "1048571  5150487             -26      C\n",
       "1048572  5150487             -27      C\n",
       "1048573  5150487             -28      C\n",
       "1048574  5150487             -29      C\n",
       "\n",
       "[1048575 rows x 3 columns]"
      ],
      "text/html": "<div>\n<style scoped>\n    .dataframe tbody tr th:only-of-type {\n        vertical-align: middle;\n    }\n\n    .dataframe tbody tr th {\n        vertical-align: top;\n    }\n\n    .dataframe thead th {\n        text-align: right;\n    }\n</style>\n<table border=\"1\" class=\"dataframe\">\n  <thead>\n    <tr style=\"text-align: right;\">\n      <th></th>\n      <th>ID</th>\n      <th>MONTHS_BALANCE</th>\n      <th>STATUS</th>\n    </tr>\n  </thead>\n  <tbody>\n    <tr>\n      <th>0</th>\n      <td>5001711</td>\n      <td>0</td>\n      <td>X</td>\n    </tr>\n    <tr>\n      <th>1</th>\n      <td>5001711</td>\n      <td>-1</td>\n      <td>0</td>\n    </tr>\n    <tr>\n      <th>2</th>\n      <td>5001711</td>\n      <td>-2</td>\n      <td>0</td>\n    </tr>\n    <tr>\n      <th>3</th>\n      <td>5001711</td>\n      <td>-3</td>\n      <td>0</td>\n    </tr>\n    <tr>\n      <th>4</th>\n      <td>5001712</td>\n      <td>0</td>\n      <td>C</td>\n    </tr>\n    <tr>\n      <th>...</th>\n      <td>...</td>\n      <td>...</td>\n      <td>...</td>\n    </tr>\n    <tr>\n      <th>1048570</th>\n      <td>5150487</td>\n      <td>-25</td>\n      <td>C</td>\n    </tr>\n    <tr>\n      <th>1048571</th>\n      <td>5150487</td>\n      <td>-26</td>\n      <td>C</td>\n    </tr>\n    <tr>\n      <th>1048572</th>\n      <td>5150487</td>\n      <td>-27</td>\n      <td>C</td>\n    </tr>\n    <tr>\n      <th>1048573</th>\n      <td>5150487</td>\n      <td>-28</td>\n      <td>C</td>\n    </tr>\n    <tr>\n      <th>1048574</th>\n      <td>5150487</td>\n      <td>-29</td>\n      <td>C</td>\n    </tr>\n  </tbody>\n</table>\n<p>1048575 rows × 3 columns</p>\n</div>"
     },
     "metadata": {},
     "execution_count": 9
    }
   ]
  },
  {
   "cell_type": "code",
   "execution_count": 3,
   "metadata": {},
   "outputs": [
    {
     "output_type": "execute_result",
     "data": {
      "text/plain": [
       "             ID CODE_GENDER FLAG_OWN_CAR FLAG_OWN_REALTY  CNT_CHILDREN  \\\n",
       "0       5008804           M            Y               Y             0   \n",
       "1       5008805           M            Y               Y             0   \n",
       "2       5008806           M            Y               Y             0   \n",
       "3       5008808           F            N               Y             0   \n",
       "4       5008809           F            N               Y             0   \n",
       "...         ...         ...          ...             ...           ...   \n",
       "438552  6840104           M            N               Y             0   \n",
       "438553  6840222           F            N               N             0   \n",
       "438554  6841878           F            N               N             0   \n",
       "438555  6842765           F            N               Y             0   \n",
       "438556  6842885           F            N               Y             0   \n",
       "\n",
       "        AMT_INCOME_TOTAL      NAME_INCOME_TYPE            NAME_EDUCATION_TYPE  \\\n",
       "0             427,500.00               Working               Higher education   \n",
       "1             427,500.00               Working               Higher education   \n",
       "2             112,500.00               Working  Secondary / secondary special   \n",
       "3             270,000.00  Commercial associate  Secondary / secondary special   \n",
       "4             270,000.00  Commercial associate  Secondary / secondary special   \n",
       "...                  ...                   ...                            ...   \n",
       "438552        135,000.00             Pensioner  Secondary / secondary special   \n",
       "438553        103,500.00               Working  Secondary / secondary special   \n",
       "438554         54,000.00  Commercial associate               Higher education   \n",
       "438555         72,000.00             Pensioner  Secondary / secondary special   \n",
       "438556        121,500.00               Working  Secondary / secondary special   \n",
       "\n",
       "          NAME_FAMILY_STATUS  NAME_HOUSING_TYPE  DAYS_BIRTH  DAYS_EMPLOYED  \\\n",
       "0             Civil marriage   Rented apartment      -12005          -4542   \n",
       "1             Civil marriage   Rented apartment      -12005          -4542   \n",
       "2                    Married  House / apartment      -21474          -1134   \n",
       "3       Single / not married  House / apartment      -19110          -3051   \n",
       "4       Single / not married  House / apartment      -19110          -3051   \n",
       "...                      ...                ...         ...            ...   \n",
       "438552             Separated  House / apartment      -22717         365243   \n",
       "438553  Single / not married  House / apartment      -15939          -3007   \n",
       "438554  Single / not married       With parents       -8169           -372   \n",
       "438555               Married  House / apartment      -21673         365243   \n",
       "438556               Married  House / apartment      -18858          -1201   \n",
       "\n",
       "        FLAG_MOBIL  FLAG_WORK_PHONE  FLAG_PHONE  FLAG_EMAIL OCCUPATION_TYPE  \\\n",
       "0                1                1           0           0             NaN   \n",
       "1                1                1           0           0             NaN   \n",
       "2                1                0           0           0  Security staff   \n",
       "3                1                0           1           1     Sales staff   \n",
       "4                1                0           1           1     Sales staff   \n",
       "...            ...              ...         ...         ...             ...   \n",
       "438552           1                0           0           0             NaN   \n",
       "438553           1                0           0           0        Laborers   \n",
       "438554           1                1           0           0     Sales staff   \n",
       "438555           1                0           0           0             NaN   \n",
       "438556           1                0           1           0     Sales staff   \n",
       "\n",
       "        CNT_FAM_MEMBERS  \n",
       "0                  2.00  \n",
       "1                  2.00  \n",
       "2                  2.00  \n",
       "3                  1.00  \n",
       "4                  1.00  \n",
       "...                 ...  \n",
       "438552             1.00  \n",
       "438553             1.00  \n",
       "438554             1.00  \n",
       "438555             2.00  \n",
       "438556             2.00  \n",
       "\n",
       "[438557 rows x 18 columns]"
      ],
      "text/html": "<div>\n<style scoped>\n    .dataframe tbody tr th:only-of-type {\n        vertical-align: middle;\n    }\n\n    .dataframe tbody tr th {\n        vertical-align: top;\n    }\n\n    .dataframe thead th {\n        text-align: right;\n    }\n</style>\n<table border=\"1\" class=\"dataframe\">\n  <thead>\n    <tr style=\"text-align: right;\">\n      <th></th>\n      <th>ID</th>\n      <th>CODE_GENDER</th>\n      <th>FLAG_OWN_CAR</th>\n      <th>FLAG_OWN_REALTY</th>\n      <th>CNT_CHILDREN</th>\n      <th>AMT_INCOME_TOTAL</th>\n      <th>NAME_INCOME_TYPE</th>\n      <th>NAME_EDUCATION_TYPE</th>\n      <th>NAME_FAMILY_STATUS</th>\n      <th>NAME_HOUSING_TYPE</th>\n      <th>DAYS_BIRTH</th>\n      <th>DAYS_EMPLOYED</th>\n      <th>FLAG_MOBIL</th>\n      <th>FLAG_WORK_PHONE</th>\n      <th>FLAG_PHONE</th>\n      <th>FLAG_EMAIL</th>\n      <th>OCCUPATION_TYPE</th>\n      <th>CNT_FAM_MEMBERS</th>\n    </tr>\n  </thead>\n  <tbody>\n    <tr>\n      <th>0</th>\n      <td>5008804</td>\n      <td>M</td>\n      <td>Y</td>\n      <td>Y</td>\n      <td>0</td>\n      <td>427,500.00</td>\n      <td>Working</td>\n      <td>Higher education</td>\n      <td>Civil marriage</td>\n      <td>Rented apartment</td>\n      <td>-12005</td>\n      <td>-4542</td>\n      <td>1</td>\n      <td>1</td>\n      <td>0</td>\n      <td>0</td>\n      <td>NaN</td>\n      <td>2.00</td>\n    </tr>\n    <tr>\n      <th>1</th>\n      <td>5008805</td>\n      <td>M</td>\n      <td>Y</td>\n      <td>Y</td>\n      <td>0</td>\n      <td>427,500.00</td>\n      <td>Working</td>\n      <td>Higher education</td>\n      <td>Civil marriage</td>\n      <td>Rented apartment</td>\n      <td>-12005</td>\n      <td>-4542</td>\n      <td>1</td>\n      <td>1</td>\n      <td>0</td>\n      <td>0</td>\n      <td>NaN</td>\n      <td>2.00</td>\n    </tr>\n    <tr>\n      <th>2</th>\n      <td>5008806</td>\n      <td>M</td>\n      <td>Y</td>\n      <td>Y</td>\n      <td>0</td>\n      <td>112,500.00</td>\n      <td>Working</td>\n      <td>Secondary / secondary special</td>\n      <td>Married</td>\n      <td>House / apartment</td>\n      <td>-21474</td>\n      <td>-1134</td>\n      <td>1</td>\n      <td>0</td>\n      <td>0</td>\n      <td>0</td>\n      <td>Security staff</td>\n      <td>2.00</td>\n    </tr>\n    <tr>\n      <th>3</th>\n      <td>5008808</td>\n      <td>F</td>\n      <td>N</td>\n      <td>Y</td>\n      <td>0</td>\n      <td>270,000.00</td>\n      <td>Commercial associate</td>\n      <td>Secondary / secondary special</td>\n      <td>Single / not married</td>\n      <td>House / apartment</td>\n      <td>-19110</td>\n      <td>-3051</td>\n      <td>1</td>\n      <td>0</td>\n      <td>1</td>\n      <td>1</td>\n      <td>Sales staff</td>\n      <td>1.00</td>\n    </tr>\n    <tr>\n      <th>4</th>\n      <td>5008809</td>\n      <td>F</td>\n      <td>N</td>\n      <td>Y</td>\n      <td>0</td>\n      <td>270,000.00</td>\n      <td>Commercial associate</td>\n      <td>Secondary / secondary special</td>\n      <td>Single / not married</td>\n      <td>House / apartment</td>\n      <td>-19110</td>\n      <td>-3051</td>\n      <td>1</td>\n      <td>0</td>\n      <td>1</td>\n      <td>1</td>\n      <td>Sales staff</td>\n      <td>1.00</td>\n    </tr>\n    <tr>\n      <th>...</th>\n      <td>...</td>\n      <td>...</td>\n      <td>...</td>\n      <td>...</td>\n      <td>...</td>\n      <td>...</td>\n      <td>...</td>\n      <td>...</td>\n      <td>...</td>\n      <td>...</td>\n      <td>...</td>\n      <td>...</td>\n      <td>...</td>\n      <td>...</td>\n      <td>...</td>\n      <td>...</td>\n      <td>...</td>\n      <td>...</td>\n    </tr>\n    <tr>\n      <th>438552</th>\n      <td>6840104</td>\n      <td>M</td>\n      <td>N</td>\n      <td>Y</td>\n      <td>0</td>\n      <td>135,000.00</td>\n      <td>Pensioner</td>\n      <td>Secondary / secondary special</td>\n      <td>Separated</td>\n      <td>House / apartment</td>\n      <td>-22717</td>\n      <td>365243</td>\n      <td>1</td>\n      <td>0</td>\n      <td>0</td>\n      <td>0</td>\n      <td>NaN</td>\n      <td>1.00</td>\n    </tr>\n    <tr>\n      <th>438553</th>\n      <td>6840222</td>\n      <td>F</td>\n      <td>N</td>\n      <td>N</td>\n      <td>0</td>\n      <td>103,500.00</td>\n      <td>Working</td>\n      <td>Secondary / secondary special</td>\n      <td>Single / not married</td>\n      <td>House / apartment</td>\n      <td>-15939</td>\n      <td>-3007</td>\n      <td>1</td>\n      <td>0</td>\n      <td>0</td>\n      <td>0</td>\n      <td>Laborers</td>\n      <td>1.00</td>\n    </tr>\n    <tr>\n      <th>438554</th>\n      <td>6841878</td>\n      <td>F</td>\n      <td>N</td>\n      <td>N</td>\n      <td>0</td>\n      <td>54,000.00</td>\n      <td>Commercial associate</td>\n      <td>Higher education</td>\n      <td>Single / not married</td>\n      <td>With parents</td>\n      <td>-8169</td>\n      <td>-372</td>\n      <td>1</td>\n      <td>1</td>\n      <td>0</td>\n      <td>0</td>\n      <td>Sales staff</td>\n      <td>1.00</td>\n    </tr>\n    <tr>\n      <th>438555</th>\n      <td>6842765</td>\n      <td>F</td>\n      <td>N</td>\n      <td>Y</td>\n      <td>0</td>\n      <td>72,000.00</td>\n      <td>Pensioner</td>\n      <td>Secondary / secondary special</td>\n      <td>Married</td>\n      <td>House / apartment</td>\n      <td>-21673</td>\n      <td>365243</td>\n      <td>1</td>\n      <td>0</td>\n      <td>0</td>\n      <td>0</td>\n      <td>NaN</td>\n      <td>2.00</td>\n    </tr>\n    <tr>\n      <th>438556</th>\n      <td>6842885</td>\n      <td>F</td>\n      <td>N</td>\n      <td>Y</td>\n      <td>0</td>\n      <td>121,500.00</td>\n      <td>Working</td>\n      <td>Secondary / secondary special</td>\n      <td>Married</td>\n      <td>House / apartment</td>\n      <td>-18858</td>\n      <td>-1201</td>\n      <td>1</td>\n      <td>0</td>\n      <td>1</td>\n      <td>0</td>\n      <td>Sales staff</td>\n      <td>2.00</td>\n    </tr>\n  </tbody>\n</table>\n<p>438557 rows × 18 columns</p>\n</div>"
     },
     "metadata": {},
     "execution_count": 3
    }
   ],
   "source": [
    "application_df = pd.read_csv('../data/application_record.csv')\n",
    "application_df"
   ]
  },
  {
   "source": [
    "## 2. Join de los datos\n",
    "\n"
   ],
   "cell_type": "markdown",
   "metadata": {}
  },
  {
   "cell_type": "code",
   "execution_count": 10,
   "metadata": {},
   "outputs": [
    {
     "output_type": "execute_result",
     "data": {
      "text/plain": [
       "        ID  MONTHS_BALANCE STATUS\n",
       "0  5001711               0      X\n",
       "1  5001711              -1      0\n",
       "2  5001711              -2      0\n",
       "3  5001711              -3      0\n",
       "4  5001712               0      C"
      ],
      "text/html": "<div>\n<style scoped>\n    .dataframe tbody tr th:only-of-type {\n        vertical-align: middle;\n    }\n\n    .dataframe tbody tr th {\n        vertical-align: top;\n    }\n\n    .dataframe thead th {\n        text-align: right;\n    }\n</style>\n<table border=\"1\" class=\"dataframe\">\n  <thead>\n    <tr style=\"text-align: right;\">\n      <th></th>\n      <th>ID</th>\n      <th>MONTHS_BALANCE</th>\n      <th>STATUS</th>\n    </tr>\n  </thead>\n  <tbody>\n    <tr>\n      <th>0</th>\n      <td>5001711</td>\n      <td>0</td>\n      <td>X</td>\n    </tr>\n    <tr>\n      <th>1</th>\n      <td>5001711</td>\n      <td>-1</td>\n      <td>0</td>\n    </tr>\n    <tr>\n      <th>2</th>\n      <td>5001711</td>\n      <td>-2</td>\n      <td>0</td>\n    </tr>\n    <tr>\n      <th>3</th>\n      <td>5001711</td>\n      <td>-3</td>\n      <td>0</td>\n    </tr>\n    <tr>\n      <th>4</th>\n      <td>5001712</td>\n      <td>0</td>\n      <td>C</td>\n    </tr>\n  </tbody>\n</table>\n</div>"
     },
     "metadata": {},
     "execution_count": 10
    }
   ],
   "source": [
    "credit_df.head()"
   ]
  },
  {
   "cell_type": "code",
   "execution_count": 11,
   "metadata": {},
   "outputs": [
    {
     "output_type": "execute_result",
     "data": {
      "text/plain": [
       "        ID  MONTHS_BALANCE  STATUS\n",
       "0  5001711               0      -2\n",
       "1  5001711              -1       0\n",
       "2  5001711              -2       0\n",
       "3  5001711              -3       0\n",
       "4  5001712               0      -1"
      ],
      "text/html": "<div>\n<style scoped>\n    .dataframe tbody tr th:only-of-type {\n        vertical-align: middle;\n    }\n\n    .dataframe tbody tr th {\n        vertical-align: top;\n    }\n\n    .dataframe thead th {\n        text-align: right;\n    }\n</style>\n<table border=\"1\" class=\"dataframe\">\n  <thead>\n    <tr style=\"text-align: right;\">\n      <th></th>\n      <th>ID</th>\n      <th>MONTHS_BALANCE</th>\n      <th>STATUS</th>\n    </tr>\n  </thead>\n  <tbody>\n    <tr>\n      <th>0</th>\n      <td>5001711</td>\n      <td>0</td>\n      <td>-2</td>\n    </tr>\n    <tr>\n      <th>1</th>\n      <td>5001711</td>\n      <td>-1</td>\n      <td>0</td>\n    </tr>\n    <tr>\n      <th>2</th>\n      <td>5001711</td>\n      <td>-2</td>\n      <td>0</td>\n    </tr>\n    <tr>\n      <th>3</th>\n      <td>5001711</td>\n      <td>-3</td>\n      <td>0</td>\n    </tr>\n    <tr>\n      <th>4</th>\n      <td>5001712</td>\n      <td>0</td>\n      <td>-1</td>\n    </tr>\n  </tbody>\n</table>\n</div>"
     },
     "metadata": {},
     "execution_count": 11
    }
   ],
   "source": [
    "# Actualizar el valor de la columna status por valores numéricos\n",
    "credit_df['STATUS'] = credit_df['STATUS'].replace({'X':-2, 'C':-1})\n",
    "credit_df['STATUS'] = credit_df['STATUS'].astype('int')\n",
    "credit_df.head()"
   ]
  },
  {
   "cell_type": "code",
   "execution_count": 14,
   "metadata": {},
   "outputs": [
    {
     "output_type": "execute_result",
     "data": {
      "text/plain": [
       "            ID  MONTHS_BALANCE\n",
       "0      5001711               0\n",
       "1      5001712               0\n",
       "2      5001713               0\n",
       "3      5001714               0\n",
       "4      5001715               0\n",
       "...        ...             ...\n",
       "45980  5150482             -11\n",
       "45981  5150483               0\n",
       "45982  5150484               0\n",
       "45983  5150485               0\n",
       "45984  5150487               0\n",
       "\n",
       "[45985 rows x 2 columns]"
      ],
      "text/html": "<div>\n<style scoped>\n    .dataframe tbody tr th:only-of-type {\n        vertical-align: middle;\n    }\n\n    .dataframe tbody tr th {\n        vertical-align: top;\n    }\n\n    .dataframe thead th {\n        text-align: right;\n    }\n</style>\n<table border=\"1\" class=\"dataframe\">\n  <thead>\n    <tr style=\"text-align: right;\">\n      <th></th>\n      <th>ID</th>\n      <th>MONTHS_BALANCE</th>\n    </tr>\n  </thead>\n  <tbody>\n    <tr>\n      <th>0</th>\n      <td>5001711</td>\n      <td>0</td>\n    </tr>\n    <tr>\n      <th>1</th>\n      <td>5001712</td>\n      <td>0</td>\n    </tr>\n    <tr>\n      <th>2</th>\n      <td>5001713</td>\n      <td>0</td>\n    </tr>\n    <tr>\n      <th>3</th>\n      <td>5001714</td>\n      <td>0</td>\n    </tr>\n    <tr>\n      <th>4</th>\n      <td>5001715</td>\n      <td>0</td>\n    </tr>\n    <tr>\n      <th>...</th>\n      <td>...</td>\n      <td>...</td>\n    </tr>\n    <tr>\n      <th>45980</th>\n      <td>5150482</td>\n      <td>-11</td>\n    </tr>\n    <tr>\n      <th>45981</th>\n      <td>5150483</td>\n      <td>0</td>\n    </tr>\n    <tr>\n      <th>45982</th>\n      <td>5150484</td>\n      <td>0</td>\n    </tr>\n    <tr>\n      <th>45983</th>\n      <td>5150485</td>\n      <td>0</td>\n    </tr>\n    <tr>\n      <th>45984</th>\n      <td>5150487</td>\n      <td>0</td>\n    </tr>\n  </tbody>\n</table>\n<p>45985 rows × 2 columns</p>\n</div>"
     },
     "metadata": {},
     "execution_count": 14
    }
   ],
   "source": [
    "# Encontramos el último mes\n",
    "credit_last_month = credit_df.groupby('ID', as_index=False).agg({'MONTHS_BALANCE': 'max'})\n",
    "credit_last_month"
   ]
  },
  {
   "cell_type": "code",
   "execution_count": 16,
   "metadata": {},
   "outputs": [
    {
     "output_type": "execute_result",
     "data": {
      "text/plain": [
       "            ID  MONTHS_BALANCE  STATUS\n",
       "0      5001711               0      -2\n",
       "1      5001712               0      -1\n",
       "2      5001713               0      -2\n",
       "3      5001714               0      -2\n",
       "4      5001715               0      -2\n",
       "...        ...             ...     ...\n",
       "45980  5150482             -11      -1\n",
       "45981  5150483               0      -2\n",
       "45982  5150484               0      -1\n",
       "45983  5150485               0       0\n",
       "45984  5150487               0      -1\n",
       "\n",
       "[45985 rows x 3 columns]"
      ],
      "text/html": "<div>\n<style scoped>\n    .dataframe tbody tr th:only-of-type {\n        vertical-align: middle;\n    }\n\n    .dataframe tbody tr th {\n        vertical-align: top;\n    }\n\n    .dataframe thead th {\n        text-align: right;\n    }\n</style>\n<table border=\"1\" class=\"dataframe\">\n  <thead>\n    <tr style=\"text-align: right;\">\n      <th></th>\n      <th>ID</th>\n      <th>MONTHS_BALANCE</th>\n      <th>STATUS</th>\n    </tr>\n  </thead>\n  <tbody>\n    <tr>\n      <th>0</th>\n      <td>5001711</td>\n      <td>0</td>\n      <td>-2</td>\n    </tr>\n    <tr>\n      <th>1</th>\n      <td>5001712</td>\n      <td>0</td>\n      <td>-1</td>\n    </tr>\n    <tr>\n      <th>2</th>\n      <td>5001713</td>\n      <td>0</td>\n      <td>-2</td>\n    </tr>\n    <tr>\n      <th>3</th>\n      <td>5001714</td>\n      <td>0</td>\n      <td>-2</td>\n    </tr>\n    <tr>\n      <th>4</th>\n      <td>5001715</td>\n      <td>0</td>\n      <td>-2</td>\n    </tr>\n    <tr>\n      <th>...</th>\n      <td>...</td>\n      <td>...</td>\n      <td>...</td>\n    </tr>\n    <tr>\n      <th>45980</th>\n      <td>5150482</td>\n      <td>-11</td>\n      <td>-1</td>\n    </tr>\n    <tr>\n      <th>45981</th>\n      <td>5150483</td>\n      <td>0</td>\n      <td>-2</td>\n    </tr>\n    <tr>\n      <th>45982</th>\n      <td>5150484</td>\n      <td>0</td>\n      <td>-1</td>\n    </tr>\n    <tr>\n      <th>45983</th>\n      <td>5150485</td>\n      <td>0</td>\n      <td>0</td>\n    </tr>\n    <tr>\n      <th>45984</th>\n      <td>5150487</td>\n      <td>0</td>\n      <td>-1</td>\n    </tr>\n  </tbody>\n</table>\n<p>45985 rows × 3 columns</p>\n</div>"
     },
     "metadata": {},
     "execution_count": 16
    }
   ],
   "source": [
    "# Join para obtener el status del último mes\n",
    "credit_record = pd.merge(credit_last_month, credit_df, how= 'inner', on= ['ID','MONTHS_BALANCE'] )\n",
    "credit_record"
   ]
  },
  {
   "cell_type": "code",
   "execution_count": 24,
   "metadata": {},
   "outputs": [
    {
     "output_type": "execute_result",
     "data": {
      "text/plain": [
       "            ID CODE_GENDER FLAG_OWN_CAR FLAG_OWN_REALTY  CNT_CHILDREN  \\\n",
       "0      5008804           M            Y               Y             0   \n",
       "1      5008805           M            Y               Y             0   \n",
       "2      5008806           M            Y               Y             0   \n",
       "3      5008808           F            N               Y             0   \n",
       "4      5008809           F            N               Y             0   \n",
       "...        ...         ...          ...             ...           ...   \n",
       "36452  5149828           M            Y               Y             0   \n",
       "36453  5149834           F            N               Y             0   \n",
       "36454  5149838           F            N               Y             0   \n",
       "36455  5150049           F            N               Y             0   \n",
       "36456  5150337           M            N               Y             0   \n",
       "\n",
       "       AMT_INCOME_TOTAL      NAME_INCOME_TYPE            NAME_EDUCATION_TYPE  \\\n",
       "0            427,500.00               Working               Higher education   \n",
       "1            427,500.00               Working               Higher education   \n",
       "2            112,500.00               Working  Secondary / secondary special   \n",
       "3            270,000.00  Commercial associate  Secondary / secondary special   \n",
       "4            270,000.00  Commercial associate  Secondary / secondary special   \n",
       "...                 ...                   ...                            ...   \n",
       "36452        315,000.00               Working  Secondary / secondary special   \n",
       "36453        157,500.00  Commercial associate               Higher education   \n",
       "36454        157,500.00             Pensioner               Higher education   \n",
       "36455        283,500.00               Working  Secondary / secondary special   \n",
       "36456        112,500.00               Working  Secondary / secondary special   \n",
       "\n",
       "         NAME_FAMILY_STATUS  NAME_HOUSING_TYPE  DAYS_BIRTH  DAYS_EMPLOYED  \\\n",
       "0            Civil marriage   Rented apartment      -12005          -4542   \n",
       "1            Civil marriage   Rented apartment      -12005          -4542   \n",
       "2                   Married  House / apartment      -21474          -1134   \n",
       "3      Single / not married  House / apartment      -19110          -3051   \n",
       "4      Single / not married  House / apartment      -19110          -3051   \n",
       "...                     ...                ...         ...            ...   \n",
       "36452               Married  House / apartment      -17348          -2420   \n",
       "36453               Married  House / apartment      -12387          -1325   \n",
       "36454               Married  House / apartment      -12387          -1325   \n",
       "36455               Married  House / apartment      -17958           -655   \n",
       "36456  Single / not married   Rented apartment       -9188          -1193   \n",
       "\n",
       "       FLAG_MOBIL  FLAG_WORK_PHONE  FLAG_PHONE  FLAG_EMAIL OCCUPATION_TYPE  \\\n",
       "0               1                1           0           0             NaN   \n",
       "1               1                1           0           0             NaN   \n",
       "2               1                0           0           0  Security staff   \n",
       "3               1                0           1           1     Sales staff   \n",
       "4               1                0           1           1     Sales staff   \n",
       "...           ...              ...         ...         ...             ...   \n",
       "36452           1                0           0           0        Managers   \n",
       "36453           1                0           1           1  Medicine staff   \n",
       "36454           1                0           1           1  Medicine staff   \n",
       "36455           1                0           0           0     Sales staff   \n",
       "36456           1                0           0           0        Laborers   \n",
       "\n",
       "       CNT_FAM_MEMBERS  MONTHS_BALANCE  STATUS  \n",
       "0                 2.00               0      -1  \n",
       "1                 2.00               0      -1  \n",
       "2                 2.00               0      -1  \n",
       "3                 1.00               0       0  \n",
       "4                 1.00             -22      -2  \n",
       "...                ...             ...     ...  \n",
       "36452             2.00               0       5  \n",
       "36453             2.00               0      -1  \n",
       "36454             2.00               0      -1  \n",
       "36455             2.00               0       2  \n",
       "36456             1.00               0       0  \n",
       "\n",
       "[36457 rows x 20 columns]"
      ],
      "text/html": "<div>\n<style scoped>\n    .dataframe tbody tr th:only-of-type {\n        vertical-align: middle;\n    }\n\n    .dataframe tbody tr th {\n        vertical-align: top;\n    }\n\n    .dataframe thead th {\n        text-align: right;\n    }\n</style>\n<table border=\"1\" class=\"dataframe\">\n  <thead>\n    <tr style=\"text-align: right;\">\n      <th></th>\n      <th>ID</th>\n      <th>CODE_GENDER</th>\n      <th>FLAG_OWN_CAR</th>\n      <th>FLAG_OWN_REALTY</th>\n      <th>CNT_CHILDREN</th>\n      <th>AMT_INCOME_TOTAL</th>\n      <th>NAME_INCOME_TYPE</th>\n      <th>NAME_EDUCATION_TYPE</th>\n      <th>NAME_FAMILY_STATUS</th>\n      <th>NAME_HOUSING_TYPE</th>\n      <th>DAYS_BIRTH</th>\n      <th>DAYS_EMPLOYED</th>\n      <th>FLAG_MOBIL</th>\n      <th>FLAG_WORK_PHONE</th>\n      <th>FLAG_PHONE</th>\n      <th>FLAG_EMAIL</th>\n      <th>OCCUPATION_TYPE</th>\n      <th>CNT_FAM_MEMBERS</th>\n      <th>MONTHS_BALANCE</th>\n      <th>STATUS</th>\n    </tr>\n  </thead>\n  <tbody>\n    <tr>\n      <th>0</th>\n      <td>5008804</td>\n      <td>M</td>\n      <td>Y</td>\n      <td>Y</td>\n      <td>0</td>\n      <td>427,500.00</td>\n      <td>Working</td>\n      <td>Higher education</td>\n      <td>Civil marriage</td>\n      <td>Rented apartment</td>\n      <td>-12005</td>\n      <td>-4542</td>\n      <td>1</td>\n      <td>1</td>\n      <td>0</td>\n      <td>0</td>\n      <td>NaN</td>\n      <td>2.00</td>\n      <td>0</td>\n      <td>-1</td>\n    </tr>\n    <tr>\n      <th>1</th>\n      <td>5008805</td>\n      <td>M</td>\n      <td>Y</td>\n      <td>Y</td>\n      <td>0</td>\n      <td>427,500.00</td>\n      <td>Working</td>\n      <td>Higher education</td>\n      <td>Civil marriage</td>\n      <td>Rented apartment</td>\n      <td>-12005</td>\n      <td>-4542</td>\n      <td>1</td>\n      <td>1</td>\n      <td>0</td>\n      <td>0</td>\n      <td>NaN</td>\n      <td>2.00</td>\n      <td>0</td>\n      <td>-1</td>\n    </tr>\n    <tr>\n      <th>2</th>\n      <td>5008806</td>\n      <td>M</td>\n      <td>Y</td>\n      <td>Y</td>\n      <td>0</td>\n      <td>112,500.00</td>\n      <td>Working</td>\n      <td>Secondary / secondary special</td>\n      <td>Married</td>\n      <td>House / apartment</td>\n      <td>-21474</td>\n      <td>-1134</td>\n      <td>1</td>\n      <td>0</td>\n      <td>0</td>\n      <td>0</td>\n      <td>Security staff</td>\n      <td>2.00</td>\n      <td>0</td>\n      <td>-1</td>\n    </tr>\n    <tr>\n      <th>3</th>\n      <td>5008808</td>\n      <td>F</td>\n      <td>N</td>\n      <td>Y</td>\n      <td>0</td>\n      <td>270,000.00</td>\n      <td>Commercial associate</td>\n      <td>Secondary / secondary special</td>\n      <td>Single / not married</td>\n      <td>House / apartment</td>\n      <td>-19110</td>\n      <td>-3051</td>\n      <td>1</td>\n      <td>0</td>\n      <td>1</td>\n      <td>1</td>\n      <td>Sales staff</td>\n      <td>1.00</td>\n      <td>0</td>\n      <td>0</td>\n    </tr>\n    <tr>\n      <th>4</th>\n      <td>5008809</td>\n      <td>F</td>\n      <td>N</td>\n      <td>Y</td>\n      <td>0</td>\n      <td>270,000.00</td>\n      <td>Commercial associate</td>\n      <td>Secondary / secondary special</td>\n      <td>Single / not married</td>\n      <td>House / apartment</td>\n      <td>-19110</td>\n      <td>-3051</td>\n      <td>1</td>\n      <td>0</td>\n      <td>1</td>\n      <td>1</td>\n      <td>Sales staff</td>\n      <td>1.00</td>\n      <td>-22</td>\n      <td>-2</td>\n    </tr>\n    <tr>\n      <th>...</th>\n      <td>...</td>\n      <td>...</td>\n      <td>...</td>\n      <td>...</td>\n      <td>...</td>\n      <td>...</td>\n      <td>...</td>\n      <td>...</td>\n      <td>...</td>\n      <td>...</td>\n      <td>...</td>\n      <td>...</td>\n      <td>...</td>\n      <td>...</td>\n      <td>...</td>\n      <td>...</td>\n      <td>...</td>\n      <td>...</td>\n      <td>...</td>\n      <td>...</td>\n    </tr>\n    <tr>\n      <th>36452</th>\n      <td>5149828</td>\n      <td>M</td>\n      <td>Y</td>\n      <td>Y</td>\n      <td>0</td>\n      <td>315,000.00</td>\n      <td>Working</td>\n      <td>Secondary / secondary special</td>\n      <td>Married</td>\n      <td>House / apartment</td>\n      <td>-17348</td>\n      <td>-2420</td>\n      <td>1</td>\n      <td>0</td>\n      <td>0</td>\n      <td>0</td>\n      <td>Managers</td>\n      <td>2.00</td>\n      <td>0</td>\n      <td>5</td>\n    </tr>\n    <tr>\n      <th>36453</th>\n      <td>5149834</td>\n      <td>F</td>\n      <td>N</td>\n      <td>Y</td>\n      <td>0</td>\n      <td>157,500.00</td>\n      <td>Commercial associate</td>\n      <td>Higher education</td>\n      <td>Married</td>\n      <td>House / apartment</td>\n      <td>-12387</td>\n      <td>-1325</td>\n      <td>1</td>\n      <td>0</td>\n      <td>1</td>\n      <td>1</td>\n      <td>Medicine staff</td>\n      <td>2.00</td>\n      <td>0</td>\n      <td>-1</td>\n    </tr>\n    <tr>\n      <th>36454</th>\n      <td>5149838</td>\n      <td>F</td>\n      <td>N</td>\n      <td>Y</td>\n      <td>0</td>\n      <td>157,500.00</td>\n      <td>Pensioner</td>\n      <td>Higher education</td>\n      <td>Married</td>\n      <td>House / apartment</td>\n      <td>-12387</td>\n      <td>-1325</td>\n      <td>1</td>\n      <td>0</td>\n      <td>1</td>\n      <td>1</td>\n      <td>Medicine staff</td>\n      <td>2.00</td>\n      <td>0</td>\n      <td>-1</td>\n    </tr>\n    <tr>\n      <th>36455</th>\n      <td>5150049</td>\n      <td>F</td>\n      <td>N</td>\n      <td>Y</td>\n      <td>0</td>\n      <td>283,500.00</td>\n      <td>Working</td>\n      <td>Secondary / secondary special</td>\n      <td>Married</td>\n      <td>House / apartment</td>\n      <td>-17958</td>\n      <td>-655</td>\n      <td>1</td>\n      <td>0</td>\n      <td>0</td>\n      <td>0</td>\n      <td>Sales staff</td>\n      <td>2.00</td>\n      <td>0</td>\n      <td>2</td>\n    </tr>\n    <tr>\n      <th>36456</th>\n      <td>5150337</td>\n      <td>M</td>\n      <td>N</td>\n      <td>Y</td>\n      <td>0</td>\n      <td>112,500.00</td>\n      <td>Working</td>\n      <td>Secondary / secondary special</td>\n      <td>Single / not married</td>\n      <td>Rented apartment</td>\n      <td>-9188</td>\n      <td>-1193</td>\n      <td>1</td>\n      <td>0</td>\n      <td>0</td>\n      <td>0</td>\n      <td>Laborers</td>\n      <td>1.00</td>\n      <td>0</td>\n      <td>0</td>\n    </tr>\n  </tbody>\n</table>\n<p>36457 rows × 20 columns</p>\n</div>"
     },
     "metadata": {},
     "execution_count": 24
    }
   ],
   "source": [
    "# Join entre aplication y creadit para crear el df final\n",
    "df = pd.merge(application_df, credit_record, how= 'inner', on= ['ID'])\n",
    "df"
   ]
  },
  {
   "source": [
    "## 2. EDA"
   ],
   "cell_type": "markdown",
   "metadata": {}
  },
  {
   "cell_type": "code",
   "execution_count": 18,
   "metadata": {},
   "outputs": [
    {
     "output_type": "execute_result",
     "data": {
      "text/plain": [
       "        ID CODE_GENDER FLAG_OWN_CAR FLAG_OWN_REALTY  CNT_CHILDREN  \\\n",
       "0  5008804           M            Y               Y             0   \n",
       "1  5008805           M            Y               Y             0   \n",
       "2  5008806           M            Y               Y             0   \n",
       "3  5008808           F            N               Y             0   \n",
       "4  5008809           F            N               Y             0   \n",
       "5  5008810           F            N               Y             0   \n",
       "6  5008811           F            N               Y             0   \n",
       "7  5008812           F            N               Y             0   \n",
       "8  5008813           F            N               Y             0   \n",
       "9  5008814           F            N               Y             0   \n",
       "\n",
       "   AMT_INCOME_TOTAL      NAME_INCOME_TYPE            NAME_EDUCATION_TYPE  \\\n",
       "0        427,500.00               Working               Higher education   \n",
       "1        427,500.00               Working               Higher education   \n",
       "2        112,500.00               Working  Secondary / secondary special   \n",
       "3        270,000.00  Commercial associate  Secondary / secondary special   \n",
       "4        270,000.00  Commercial associate  Secondary / secondary special   \n",
       "5        270,000.00  Commercial associate  Secondary / secondary special   \n",
       "6        270,000.00  Commercial associate  Secondary / secondary special   \n",
       "7        283,500.00             Pensioner               Higher education   \n",
       "8        283,500.00             Pensioner               Higher education   \n",
       "9        283,500.00             Pensioner               Higher education   \n",
       "\n",
       "     NAME_FAMILY_STATUS  NAME_HOUSING_TYPE  DAYS_BIRTH  DAYS_EMPLOYED  \\\n",
       "0        Civil marriage   Rented apartment      -12005          -4542   \n",
       "1        Civil marriage   Rented apartment      -12005          -4542   \n",
       "2               Married  House / apartment      -21474          -1134   \n",
       "3  Single / not married  House / apartment      -19110          -3051   \n",
       "4  Single / not married  House / apartment      -19110          -3051   \n",
       "5  Single / not married  House / apartment      -19110          -3051   \n",
       "6  Single / not married  House / apartment      -19110          -3051   \n",
       "7             Separated  House / apartment      -22464         365243   \n",
       "8             Separated  House / apartment      -22464         365243   \n",
       "9             Separated  House / apartment      -22464         365243   \n",
       "\n",
       "   FLAG_MOBIL  FLAG_WORK_PHONE  FLAG_PHONE  FLAG_EMAIL OCCUPATION_TYPE  \\\n",
       "0           1                1           0           0             NaN   \n",
       "1           1                1           0           0             NaN   \n",
       "2           1                0           0           0  Security staff   \n",
       "3           1                0           1           1     Sales staff   \n",
       "4           1                0           1           1     Sales staff   \n",
       "5           1                0           1           1     Sales staff   \n",
       "6           1                0           1           1     Sales staff   \n",
       "7           1                0           0           0             NaN   \n",
       "8           1                0           0           0             NaN   \n",
       "9           1                0           0           0             NaN   \n",
       "\n",
       "   CNT_FAM_MEMBERS  MONTHS_BALANCE  STATUS  \n",
       "0             2.00               0      -1  \n",
       "1             2.00               0      -1  \n",
       "2             2.00               0      -1  \n",
       "3             1.00               0       0  \n",
       "4             1.00             -22      -2  \n",
       "5             1.00               0      -1  \n",
       "6             1.00               0      -1  \n",
       "7             1.00              -4       0  \n",
       "8             1.00               0       0  \n",
       "9             1.00              -1       0  "
      ],
      "text/html": "<div>\n<style scoped>\n    .dataframe tbody tr th:only-of-type {\n        vertical-align: middle;\n    }\n\n    .dataframe tbody tr th {\n        vertical-align: top;\n    }\n\n    .dataframe thead th {\n        text-align: right;\n    }\n</style>\n<table border=\"1\" class=\"dataframe\">\n  <thead>\n    <tr style=\"text-align: right;\">\n      <th></th>\n      <th>ID</th>\n      <th>CODE_GENDER</th>\n      <th>FLAG_OWN_CAR</th>\n      <th>FLAG_OWN_REALTY</th>\n      <th>CNT_CHILDREN</th>\n      <th>AMT_INCOME_TOTAL</th>\n      <th>NAME_INCOME_TYPE</th>\n      <th>NAME_EDUCATION_TYPE</th>\n      <th>NAME_FAMILY_STATUS</th>\n      <th>NAME_HOUSING_TYPE</th>\n      <th>DAYS_BIRTH</th>\n      <th>DAYS_EMPLOYED</th>\n      <th>FLAG_MOBIL</th>\n      <th>FLAG_WORK_PHONE</th>\n      <th>FLAG_PHONE</th>\n      <th>FLAG_EMAIL</th>\n      <th>OCCUPATION_TYPE</th>\n      <th>CNT_FAM_MEMBERS</th>\n      <th>MONTHS_BALANCE</th>\n      <th>STATUS</th>\n    </tr>\n  </thead>\n  <tbody>\n    <tr>\n      <th>0</th>\n      <td>5008804</td>\n      <td>M</td>\n      <td>Y</td>\n      <td>Y</td>\n      <td>0</td>\n      <td>427,500.00</td>\n      <td>Working</td>\n      <td>Higher education</td>\n      <td>Civil marriage</td>\n      <td>Rented apartment</td>\n      <td>-12005</td>\n      <td>-4542</td>\n      <td>1</td>\n      <td>1</td>\n      <td>0</td>\n      <td>0</td>\n      <td>NaN</td>\n      <td>2.00</td>\n      <td>0</td>\n      <td>-1</td>\n    </tr>\n    <tr>\n      <th>1</th>\n      <td>5008805</td>\n      <td>M</td>\n      <td>Y</td>\n      <td>Y</td>\n      <td>0</td>\n      <td>427,500.00</td>\n      <td>Working</td>\n      <td>Higher education</td>\n      <td>Civil marriage</td>\n      <td>Rented apartment</td>\n      <td>-12005</td>\n      <td>-4542</td>\n      <td>1</td>\n      <td>1</td>\n      <td>0</td>\n      <td>0</td>\n      <td>NaN</td>\n      <td>2.00</td>\n      <td>0</td>\n      <td>-1</td>\n    </tr>\n    <tr>\n      <th>2</th>\n      <td>5008806</td>\n      <td>M</td>\n      <td>Y</td>\n      <td>Y</td>\n      <td>0</td>\n      <td>112,500.00</td>\n      <td>Working</td>\n      <td>Secondary / secondary special</td>\n      <td>Married</td>\n      <td>House / apartment</td>\n      <td>-21474</td>\n      <td>-1134</td>\n      <td>1</td>\n      <td>0</td>\n      <td>0</td>\n      <td>0</td>\n      <td>Security staff</td>\n      <td>2.00</td>\n      <td>0</td>\n      <td>-1</td>\n    </tr>\n    <tr>\n      <th>3</th>\n      <td>5008808</td>\n      <td>F</td>\n      <td>N</td>\n      <td>Y</td>\n      <td>0</td>\n      <td>270,000.00</td>\n      <td>Commercial associate</td>\n      <td>Secondary / secondary special</td>\n      <td>Single / not married</td>\n      <td>House / apartment</td>\n      <td>-19110</td>\n      <td>-3051</td>\n      <td>1</td>\n      <td>0</td>\n      <td>1</td>\n      <td>1</td>\n      <td>Sales staff</td>\n      <td>1.00</td>\n      <td>0</td>\n      <td>0</td>\n    </tr>\n    <tr>\n      <th>4</th>\n      <td>5008809</td>\n      <td>F</td>\n      <td>N</td>\n      <td>Y</td>\n      <td>0</td>\n      <td>270,000.00</td>\n      <td>Commercial associate</td>\n      <td>Secondary / secondary special</td>\n      <td>Single / not married</td>\n      <td>House / apartment</td>\n      <td>-19110</td>\n      <td>-3051</td>\n      <td>1</td>\n      <td>0</td>\n      <td>1</td>\n      <td>1</td>\n      <td>Sales staff</td>\n      <td>1.00</td>\n      <td>-22</td>\n      <td>-2</td>\n    </tr>\n    <tr>\n      <th>5</th>\n      <td>5008810</td>\n      <td>F</td>\n      <td>N</td>\n      <td>Y</td>\n      <td>0</td>\n      <td>270,000.00</td>\n      <td>Commercial associate</td>\n      <td>Secondary / secondary special</td>\n      <td>Single / not married</td>\n      <td>House / apartment</td>\n      <td>-19110</td>\n      <td>-3051</td>\n      <td>1</td>\n      <td>0</td>\n      <td>1</td>\n      <td>1</td>\n      <td>Sales staff</td>\n      <td>1.00</td>\n      <td>0</td>\n      <td>-1</td>\n    </tr>\n    <tr>\n      <th>6</th>\n      <td>5008811</td>\n      <td>F</td>\n      <td>N</td>\n      <td>Y</td>\n      <td>0</td>\n      <td>270,000.00</td>\n      <td>Commercial associate</td>\n      <td>Secondary / secondary special</td>\n      <td>Single / not married</td>\n      <td>House / apartment</td>\n      <td>-19110</td>\n      <td>-3051</td>\n      <td>1</td>\n      <td>0</td>\n      <td>1</td>\n      <td>1</td>\n      <td>Sales staff</td>\n      <td>1.00</td>\n      <td>0</td>\n      <td>-1</td>\n    </tr>\n    <tr>\n      <th>7</th>\n      <td>5008812</td>\n      <td>F</td>\n      <td>N</td>\n      <td>Y</td>\n      <td>0</td>\n      <td>283,500.00</td>\n      <td>Pensioner</td>\n      <td>Higher education</td>\n      <td>Separated</td>\n      <td>House / apartment</td>\n      <td>-22464</td>\n      <td>365243</td>\n      <td>1</td>\n      <td>0</td>\n      <td>0</td>\n      <td>0</td>\n      <td>NaN</td>\n      <td>1.00</td>\n      <td>-4</td>\n      <td>0</td>\n    </tr>\n    <tr>\n      <th>8</th>\n      <td>5008813</td>\n      <td>F</td>\n      <td>N</td>\n      <td>Y</td>\n      <td>0</td>\n      <td>283,500.00</td>\n      <td>Pensioner</td>\n      <td>Higher education</td>\n      <td>Separated</td>\n      <td>House / apartment</td>\n      <td>-22464</td>\n      <td>365243</td>\n      <td>1</td>\n      <td>0</td>\n      <td>0</td>\n      <td>0</td>\n      <td>NaN</td>\n      <td>1.00</td>\n      <td>0</td>\n      <td>0</td>\n    </tr>\n    <tr>\n      <th>9</th>\n      <td>5008814</td>\n      <td>F</td>\n      <td>N</td>\n      <td>Y</td>\n      <td>0</td>\n      <td>283,500.00</td>\n      <td>Pensioner</td>\n      <td>Higher education</td>\n      <td>Separated</td>\n      <td>House / apartment</td>\n      <td>-22464</td>\n      <td>365243</td>\n      <td>1</td>\n      <td>0</td>\n      <td>0</td>\n      <td>0</td>\n      <td>NaN</td>\n      <td>1.00</td>\n      <td>-1</td>\n      <td>0</td>\n    </tr>\n  </tbody>\n</table>\n</div>"
     },
     "metadata": {},
     "execution_count": 18
    }
   ],
   "source": [
    "df.head(10)"
   ]
  },
  {
   "cell_type": "code",
   "execution_count": 26,
   "metadata": {},
   "outputs": [
    {
     "output_type": "execute_result",
     "data": {
      "text/plain": [
       "        id gender car property  children  annual_income           income_type  \\\n",
       "0  5008804      M   Y        Y         0     427,500.00               Working   \n",
       "1  5008805      M   Y        Y         0     427,500.00               Working   \n",
       "2  5008806      M   Y        Y         0     112,500.00               Working   \n",
       "3  5008808      F   N        Y         0     270,000.00  Commercial associate   \n",
       "4  5008809      F   N        Y         0     270,000.00  Commercial associate   \n",
       "5  5008810      F   N        Y         0     270,000.00  Commercial associate   \n",
       "6  5008811      F   N        Y         0     270,000.00  Commercial associate   \n",
       "7  5008812      F   N        Y         0     283,500.00             Pensioner   \n",
       "8  5008813      F   N        Y         0     283,500.00             Pensioner   \n",
       "9  5008814      F   N        Y         0     283,500.00             Pensioner   \n",
       "\n",
       "                  education_type         family_status       housing_type  \\\n",
       "0               Higher education        Civil marriage   Rented apartment   \n",
       "1               Higher education        Civil marriage   Rented apartment   \n",
       "2  Secondary / secondary special               Married  House / apartment   \n",
       "3  Secondary / secondary special  Single / not married  House / apartment   \n",
       "4  Secondary / secondary special  Single / not married  House / apartment   \n",
       "5  Secondary / secondary special  Single / not married  House / apartment   \n",
       "6  Secondary / secondary special  Single / not married  House / apartment   \n",
       "7               Higher education             Separated  House / apartment   \n",
       "8               Higher education             Separated  House / apartment   \n",
       "9               Higher education             Separated  House / apartment   \n",
       "\n",
       "   birth_date  employment  mobile_phone  work_phone  phone  email  \\\n",
       "0      -12005       -4542             1           1      0      0   \n",
       "1      -12005       -4542             1           1      0      0   \n",
       "2      -21474       -1134             1           0      0      0   \n",
       "3      -19110       -3051             1           0      1      1   \n",
       "4      -19110       -3051             1           0      1      1   \n",
       "5      -19110       -3051             1           0      1      1   \n",
       "6      -19110       -3051             1           0      1      1   \n",
       "7      -22464      365243             1           0      0      0   \n",
       "8      -22464      365243             1           0      0      0   \n",
       "9      -22464      365243             1           0      0      0   \n",
       "\n",
       "  occupation_type  fam_members  months_balance  status  \n",
       "0             NaN         2.00               0      -1  \n",
       "1             NaN         2.00               0      -1  \n",
       "2  Security staff         2.00               0      -1  \n",
       "3     Sales staff         1.00               0       0  \n",
       "4     Sales staff         1.00             -22      -2  \n",
       "5     Sales staff         1.00               0      -1  \n",
       "6     Sales staff         1.00               0      -1  \n",
       "7             NaN         1.00              -4       0  \n",
       "8             NaN         1.00               0       0  \n",
       "9             NaN         1.00              -1       0  "
      ],
      "text/html": "<div>\n<style scoped>\n    .dataframe tbody tr th:only-of-type {\n        vertical-align: middle;\n    }\n\n    .dataframe tbody tr th {\n        vertical-align: top;\n    }\n\n    .dataframe thead th {\n        text-align: right;\n    }\n</style>\n<table border=\"1\" class=\"dataframe\">\n  <thead>\n    <tr style=\"text-align: right;\">\n      <th></th>\n      <th>id</th>\n      <th>gender</th>\n      <th>car</th>\n      <th>property</th>\n      <th>children</th>\n      <th>annual_income</th>\n      <th>income_type</th>\n      <th>education_type</th>\n      <th>family_status</th>\n      <th>housing_type</th>\n      <th>birth_date</th>\n      <th>employment</th>\n      <th>mobile_phone</th>\n      <th>work_phone</th>\n      <th>phone</th>\n      <th>email</th>\n      <th>occupation_type</th>\n      <th>fam_members</th>\n      <th>months_balance</th>\n      <th>status</th>\n    </tr>\n  </thead>\n  <tbody>\n    <tr>\n      <th>0</th>\n      <td>5008804</td>\n      <td>M</td>\n      <td>Y</td>\n      <td>Y</td>\n      <td>0</td>\n      <td>427,500.00</td>\n      <td>Working</td>\n      <td>Higher education</td>\n      <td>Civil marriage</td>\n      <td>Rented apartment</td>\n      <td>-12005</td>\n      <td>-4542</td>\n      <td>1</td>\n      <td>1</td>\n      <td>0</td>\n      <td>0</td>\n      <td>NaN</td>\n      <td>2.00</td>\n      <td>0</td>\n      <td>-1</td>\n    </tr>\n    <tr>\n      <th>1</th>\n      <td>5008805</td>\n      <td>M</td>\n      <td>Y</td>\n      <td>Y</td>\n      <td>0</td>\n      <td>427,500.00</td>\n      <td>Working</td>\n      <td>Higher education</td>\n      <td>Civil marriage</td>\n      <td>Rented apartment</td>\n      <td>-12005</td>\n      <td>-4542</td>\n      <td>1</td>\n      <td>1</td>\n      <td>0</td>\n      <td>0</td>\n      <td>NaN</td>\n      <td>2.00</td>\n      <td>0</td>\n      <td>-1</td>\n    </tr>\n    <tr>\n      <th>2</th>\n      <td>5008806</td>\n      <td>M</td>\n      <td>Y</td>\n      <td>Y</td>\n      <td>0</td>\n      <td>112,500.00</td>\n      <td>Working</td>\n      <td>Secondary / secondary special</td>\n      <td>Married</td>\n      <td>House / apartment</td>\n      <td>-21474</td>\n      <td>-1134</td>\n      <td>1</td>\n      <td>0</td>\n      <td>0</td>\n      <td>0</td>\n      <td>Security staff</td>\n      <td>2.00</td>\n      <td>0</td>\n      <td>-1</td>\n    </tr>\n    <tr>\n      <th>3</th>\n      <td>5008808</td>\n      <td>F</td>\n      <td>N</td>\n      <td>Y</td>\n      <td>0</td>\n      <td>270,000.00</td>\n      <td>Commercial associate</td>\n      <td>Secondary / secondary special</td>\n      <td>Single / not married</td>\n      <td>House / apartment</td>\n      <td>-19110</td>\n      <td>-3051</td>\n      <td>1</td>\n      <td>0</td>\n      <td>1</td>\n      <td>1</td>\n      <td>Sales staff</td>\n      <td>1.00</td>\n      <td>0</td>\n      <td>0</td>\n    </tr>\n    <tr>\n      <th>4</th>\n      <td>5008809</td>\n      <td>F</td>\n      <td>N</td>\n      <td>Y</td>\n      <td>0</td>\n      <td>270,000.00</td>\n      <td>Commercial associate</td>\n      <td>Secondary / secondary special</td>\n      <td>Single / not married</td>\n      <td>House / apartment</td>\n      <td>-19110</td>\n      <td>-3051</td>\n      <td>1</td>\n      <td>0</td>\n      <td>1</td>\n      <td>1</td>\n      <td>Sales staff</td>\n      <td>1.00</td>\n      <td>-22</td>\n      <td>-2</td>\n    </tr>\n    <tr>\n      <th>5</th>\n      <td>5008810</td>\n      <td>F</td>\n      <td>N</td>\n      <td>Y</td>\n      <td>0</td>\n      <td>270,000.00</td>\n      <td>Commercial associate</td>\n      <td>Secondary / secondary special</td>\n      <td>Single / not married</td>\n      <td>House / apartment</td>\n      <td>-19110</td>\n      <td>-3051</td>\n      <td>1</td>\n      <td>0</td>\n      <td>1</td>\n      <td>1</td>\n      <td>Sales staff</td>\n      <td>1.00</td>\n      <td>0</td>\n      <td>-1</td>\n    </tr>\n    <tr>\n      <th>6</th>\n      <td>5008811</td>\n      <td>F</td>\n      <td>N</td>\n      <td>Y</td>\n      <td>0</td>\n      <td>270,000.00</td>\n      <td>Commercial associate</td>\n      <td>Secondary / secondary special</td>\n      <td>Single / not married</td>\n      <td>House / apartment</td>\n      <td>-19110</td>\n      <td>-3051</td>\n      <td>1</td>\n      <td>0</td>\n      <td>1</td>\n      <td>1</td>\n      <td>Sales staff</td>\n      <td>1.00</td>\n      <td>0</td>\n      <td>-1</td>\n    </tr>\n    <tr>\n      <th>7</th>\n      <td>5008812</td>\n      <td>F</td>\n      <td>N</td>\n      <td>Y</td>\n      <td>0</td>\n      <td>283,500.00</td>\n      <td>Pensioner</td>\n      <td>Higher education</td>\n      <td>Separated</td>\n      <td>House / apartment</td>\n      <td>-22464</td>\n      <td>365243</td>\n      <td>1</td>\n      <td>0</td>\n      <td>0</td>\n      <td>0</td>\n      <td>NaN</td>\n      <td>1.00</td>\n      <td>-4</td>\n      <td>0</td>\n    </tr>\n    <tr>\n      <th>8</th>\n      <td>5008813</td>\n      <td>F</td>\n      <td>N</td>\n      <td>Y</td>\n      <td>0</td>\n      <td>283,500.00</td>\n      <td>Pensioner</td>\n      <td>Higher education</td>\n      <td>Separated</td>\n      <td>House / apartment</td>\n      <td>-22464</td>\n      <td>365243</td>\n      <td>1</td>\n      <td>0</td>\n      <td>0</td>\n      <td>0</td>\n      <td>NaN</td>\n      <td>1.00</td>\n      <td>0</td>\n      <td>0</td>\n    </tr>\n    <tr>\n      <th>9</th>\n      <td>5008814</td>\n      <td>F</td>\n      <td>N</td>\n      <td>Y</td>\n      <td>0</td>\n      <td>283,500.00</td>\n      <td>Pensioner</td>\n      <td>Higher education</td>\n      <td>Separated</td>\n      <td>House / apartment</td>\n      <td>-22464</td>\n      <td>365243</td>\n      <td>1</td>\n      <td>0</td>\n      <td>0</td>\n      <td>0</td>\n      <td>NaN</td>\n      <td>1.00</td>\n      <td>-1</td>\n      <td>0</td>\n    </tr>\n  </tbody>\n</table>\n</div>"
     },
     "metadata": {},
     "execution_count": 26
    }
   ],
   "source": [
    "# Renombramos las columnas\n",
    "df.columns = map(str.lower, df.columns)\n",
    "df = df.rename(columns= {'id': 'id',\n",
    "                'code_gender': 'gender',\n",
    "                'flag_own_car': 'car',\n",
    "                'flag_own_realty': 'property',\n",
    "                'cnt_children': 'children',\n",
    "                'amt_income_total': 'annual_income',\n",
    "                'name_income_type': 'income_type',\n",
    "                'name_education_type': 'education_type',\n",
    "                'name_family_status': 'family_status',\n",
    "                'name_housing_type': 'housing_type',\n",
    "                'days_birth': 'birth_date',\n",
    "                'days_employed': 'employment',\n",
    "                'flag_mobil': 'mobile_phone',\n",
    "                'flag_work_phone': 'work_phone',\n",
    "                'flag_phone': 'phone',\n",
    "                'flag_email': 'email',\n",
    "                'occupation_type': 'occupation_type',\n",
    "                'cnt_fam_members': 'fam_members',\n",
    "                'months_balance': 'months_balance',\n",
    "                'status': 'status'})\n",
    "df.head(10)"
   ]
  },
  {
   "cell_type": "code",
   "execution_count": 27,
   "metadata": {},
   "outputs": [
    {
     "output_type": "execute_result",
     "data": {
      "text/plain": [
       "36457"
      ]
     },
     "metadata": {},
     "execution_count": 27
    }
   ],
   "source": [
    "len(df)"
   ]
  },
  {
   "source": [
    "# Validamos el número de nulos en el df\n",
    "df.isna().sum()"
   ],
   "cell_type": "code",
   "metadata": {},
   "execution_count": 29,
   "outputs": [
    {
     "output_type": "execute_result",
     "data": {
      "text/plain": [
       "id                     0\n",
       "gender                 0\n",
       "car                    0\n",
       "property               0\n",
       "children               0\n",
       "annual_income          0\n",
       "income_type            0\n",
       "education_type         0\n",
       "family_status          0\n",
       "housing_type           0\n",
       "birth_date             0\n",
       "employment             0\n",
       "mobile_phone           0\n",
       "work_phone             0\n",
       "phone                  0\n",
       "email                  0\n",
       "occupation_type    11323\n",
       "fam_members            0\n",
       "months_balance         0\n",
       "status                 0\n",
       "dtype: int64"
      ]
     },
     "metadata": {},
     "execution_count": 29
    }
   ]
  },
  {
   "cell_type": "code",
   "execution_count": 30,
   "metadata": {},
   "outputs": [],
   "source": [
    "# Rename de occupation that are nulls\n",
    "df['occupation_type'] = df['occupation_type'].fillna('Others')"
   ]
  },
  {
   "cell_type": "code",
   "execution_count": 31,
   "metadata": {},
   "outputs": [],
   "source": [
    "# Set the birth date and employment as positive values\n",
    "df['age'] = df['birth_date'].apply(lambda x: round(x/-365, 0))\n",
    "df['year_of_employment'] = df['employment'].apply(lambda x: round(x/-365, 0) if x< 0 else 0)\n",
    "\n",
    "df = df.drop(columns=['birth_date','employment'])"
   ]
  },
  {
   "cell_type": "code",
   "execution_count": 32,
   "metadata": {},
   "outputs": [
    {
     "output_type": "execute_result",
     "data": {
      "text/plain": [
       "id                      int64\n",
       "gender                 object\n",
       "car                    object\n",
       "property               object\n",
       "children                int64\n",
       "annual_income         float64\n",
       "income_type            object\n",
       "education_type         object\n",
       "family_status          object\n",
       "housing_type           object\n",
       "mobile_phone            int64\n",
       "work_phone              int64\n",
       "phone                   int64\n",
       "email                   int64\n",
       "occupation_type        object\n",
       "fam_members           float64\n",
       "months_balance          int64\n",
       "status                  int32\n",
       "age                   float64\n",
       "year_of_employment    float64\n",
       "dtype: object"
      ]
     },
     "metadata": {},
     "execution_count": 32
    }
   ],
   "source": [
    "# Análisis del tipo de datos\n",
    "df.dtypes"
   ]
  },
  {
   "cell_type": "code",
   "execution_count": 35,
   "metadata": {},
   "outputs": [
    {
     "output_type": "execute_result",
     "data": {
      "text/plain": [
       "       annual_income  fam_members       age  year_of_employment\n",
       "count      36,457.00    36,457.00 36,457.00           36,457.00\n",
       "mean      186,685.74         2.20     43.78                6.04\n",
       "std       101,789.23         0.91     11.52                6.49\n",
       "min        27,000.00         1.00     21.00                0.00\n",
       "25%       121,500.00         2.00     34.00                1.00\n",
       "50%       157,500.00         2.00     43.00                4.00\n",
       "75%       225,000.00         3.00     53.00                9.00\n",
       "max     1,575,000.00        20.00     69.00               43.00"
      ],
      "text/html": "<div>\n<style scoped>\n    .dataframe tbody tr th:only-of-type {\n        vertical-align: middle;\n    }\n\n    .dataframe tbody tr th {\n        vertical-align: top;\n    }\n\n    .dataframe thead th {\n        text-align: right;\n    }\n</style>\n<table border=\"1\" class=\"dataframe\">\n  <thead>\n    <tr style=\"text-align: right;\">\n      <th></th>\n      <th>annual_income</th>\n      <th>fam_members</th>\n      <th>age</th>\n      <th>year_of_employment</th>\n    </tr>\n  </thead>\n  <tbody>\n    <tr>\n      <th>count</th>\n      <td>36,457.00</td>\n      <td>36,457.00</td>\n      <td>36,457.00</td>\n      <td>36,457.00</td>\n    </tr>\n    <tr>\n      <th>mean</th>\n      <td>186,685.74</td>\n      <td>2.20</td>\n      <td>43.78</td>\n      <td>6.04</td>\n    </tr>\n    <tr>\n      <th>std</th>\n      <td>101,789.23</td>\n      <td>0.91</td>\n      <td>11.52</td>\n      <td>6.49</td>\n    </tr>\n    <tr>\n      <th>min</th>\n      <td>27,000.00</td>\n      <td>1.00</td>\n      <td>21.00</td>\n      <td>0.00</td>\n    </tr>\n    <tr>\n      <th>25%</th>\n      <td>121,500.00</td>\n      <td>2.00</td>\n      <td>34.00</td>\n      <td>1.00</td>\n    </tr>\n    <tr>\n      <th>50%</th>\n      <td>157,500.00</td>\n      <td>2.00</td>\n      <td>43.00</td>\n      <td>4.00</td>\n    </tr>\n    <tr>\n      <th>75%</th>\n      <td>225,000.00</td>\n      <td>3.00</td>\n      <td>53.00</td>\n      <td>9.00</td>\n    </tr>\n    <tr>\n      <th>max</th>\n      <td>1,575,000.00</td>\n      <td>20.00</td>\n      <td>69.00</td>\n      <td>43.00</td>\n    </tr>\n  </tbody>\n</table>\n</div>"
     },
     "metadata": {},
     "execution_count": 35
    }
   ],
   "source": [
    "# Análisis de variables numéricas\n",
    "df[['annual_income','fam_members', 'age', 'year_of_employment']].describe()"
   ]
  },
  {
   "cell_type": "code",
   "execution_count": 36,
   "metadata": {},
   "outputs": [
    {
     "output_type": "stream",
     "name": "stdout",
     "text": [
      "--------------------\n",
      "F    294440\n",
      "M    144117\n",
      "Name: CODE_GENDER, dtype: int64\n",
      "--------------------\n",
      "N    275459\n",
      "Y    163098\n",
      "Name: FLAG_OWN_CAR, dtype: int64\n",
      "--------------------\n",
      "Y    304074\n",
      "N    134483\n",
      "Name: FLAG_OWN_REALTY, dtype: int64\n",
      "--------------------\n",
      "Working                 226104\n",
      "Commercial associate    100757\n",
      "Pensioner                75493\n",
      "State servant            36186\n",
      "Student                     17\n",
      "Name: NAME_INCOME_TYPE, dtype: int64\n",
      "--------------------\n",
      "Secondary / secondary special    301821\n",
      "Higher education                 117522\n",
      "Incomplete higher                 14851\n",
      "Lower secondary                    4051\n",
      "Academic degree                     312\n",
      "Name: NAME_EDUCATION_TYPE, dtype: int64\n",
      "--------------------\n",
      "Married                 299828\n",
      "Single / not married     55271\n",
      "Civil marriage           36532\n",
      "Separated                27251\n",
      "Widow                    19675\n",
      "Name: NAME_FAMILY_STATUS, dtype: int64\n",
      "--------------------\n",
      "House / apartment      393831\n",
      "With parents            19077\n",
      "Municipal apartment     14214\n",
      "Rented apartment         5974\n",
      "Office apartment         3922\n",
      "Co-op apartment          1539\n",
      "Name: NAME_HOUSING_TYPE, dtype: int64\n",
      "--------------------\n",
      "1    438557\n",
      "Name: FLAG_MOBIL, dtype: int64\n",
      "--------------------\n",
      "0    348156\n",
      "1     90401\n",
      "Name: FLAG_WORK_PHONE, dtype: int64\n",
      "--------------------\n",
      "0    312353\n",
      "1    126204\n",
      "Name: FLAG_PHONE, dtype: int64\n",
      "--------------------\n",
      "0    391102\n",
      "1     47455\n",
      "Name: FLAG_EMAIL, dtype: int64\n"
     ]
    }
   ],
   "source": [
    "# Análisis de variable categóricas\n",
    "for column in ['CODE_GENDER','FLAG_OWN_CAR','FLAG_OWN_REALTY','NAME_INCOME_TYPE','NAME_EDUCATION_TYPE','NAME_FAMILY_STATUS','NAME_HOUSING_TYPE','FLAG_MOBIL','FLAG_WORK_PHONE','FLAG_PHONE','FLAG_EMAIL']:\n",
    "    print('--------------------')\n",
    "    print(application_df[column].value_counts())"
   ]
  },
  {
   "cell_type": "code",
   "execution_count": null,
   "metadata": {},
   "outputs": [],
   "source": []
  }
 ]
}