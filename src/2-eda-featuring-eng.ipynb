{
 "metadata": {
  "language_info": {
   "codemirror_mode": {
    "name": "ipython",
    "version": 3
   },
   "file_extension": ".py",
   "mimetype": "text/x-python",
   "name": "python",
   "nbconvert_exporter": "python",
   "pygments_lexer": "ipython3",
   "version": "3.7.6"
  },
  "orig_nbformat": 2,
  "kernelspec": {
   "name": "python3",
   "display_name": "Python 3.7.6 64-bit ('base': conda)"
  },
  "metadata": {
   "interpreter": {
    "hash": "9ce43836c8d3287a06e199a1efd6974587c1d8c7cdf961feda0708cd09e2869c"
   }
  },
  "interpreter": {
   "hash": "b3ba2566441a7c06988d0923437866b63cedc61552a5af99d1f4fb67d367b25f"
  }
 },
 "nbformat": 4,
 "nbformat_minor": 2,
 "cells": [
  {
   "source": [
    "## Librerías y Paquetes"
   ],
   "cell_type": "markdown",
   "metadata": {}
  },
  {
   "cell_type": "code",
   "execution_count": 1,
   "metadata": {},
   "outputs": [],
   "source": [
    "import pandas as pd \n",
    "import numpy as np\n",
    "\n",
    "pd.options.display.float_format = '{:,.2f}'.format"
   ]
  },
  {
   "source": [
    "## 1. Carga de los dataset"
   ],
   "cell_type": "markdown",
   "metadata": {}
  },
  {
   "source": [
    "credit_df = pd.read_csv(\"../data/credit_record.csv\")\n",
    "credit_df"
   ],
   "cell_type": "code",
   "metadata": {},
   "execution_count": 9,
   "outputs": [
    {
     "output_type": "execute_result",
     "data": {
      "text/plain": [
       "              ID  MONTHS_BALANCE STATUS\n",
       "0        5001711               0      X\n",
       "1        5001711              -1      0\n",
       "2        5001711              -2      0\n",
       "3        5001711              -3      0\n",
       "4        5001712               0      C\n",
       "...          ...             ...    ...\n",
       "1048570  5150487             -25      C\n",
       "1048571  5150487             -26      C\n",
       "1048572  5150487             -27      C\n",
       "1048573  5150487             -28      C\n",
       "1048574  5150487             -29      C\n",
       "\n",
       "[1048575 rows x 3 columns]"
      ],
      "text/html": "<div>\n<style scoped>\n    .dataframe tbody tr th:only-of-type {\n        vertical-align: middle;\n    }\n\n    .dataframe tbody tr th {\n        vertical-align: top;\n    }\n\n    .dataframe thead th {\n        text-align: right;\n    }\n</style>\n<table border=\"1\" class=\"dataframe\">\n  <thead>\n    <tr style=\"text-align: right;\">\n      <th></th>\n      <th>ID</th>\n      <th>MONTHS_BALANCE</th>\n      <th>STATUS</th>\n    </tr>\n  </thead>\n  <tbody>\n    <tr>\n      <th>0</th>\n      <td>5001711</td>\n      <td>0</td>\n      <td>X</td>\n    </tr>\n    <tr>\n      <th>1</th>\n      <td>5001711</td>\n      <td>-1</td>\n      <td>0</td>\n    </tr>\n    <tr>\n      <th>2</th>\n      <td>5001711</td>\n      <td>-2</td>\n      <td>0</td>\n    </tr>\n    <tr>\n      <th>3</th>\n      <td>5001711</td>\n      <td>-3</td>\n      <td>0</td>\n    </tr>\n    <tr>\n      <th>4</th>\n      <td>5001712</td>\n      <td>0</td>\n      <td>C</td>\n    </tr>\n    <tr>\n      <th>...</th>\n      <td>...</td>\n      <td>...</td>\n      <td>...</td>\n    </tr>\n    <tr>\n      <th>1048570</th>\n      <td>5150487</td>\n      <td>-25</td>\n      <td>C</td>\n    </tr>\n    <tr>\n      <th>1048571</th>\n      <td>5150487</td>\n      <td>-26</td>\n      <td>C</td>\n    </tr>\n    <tr>\n      <th>1048572</th>\n      <td>5150487</td>\n      <td>-27</td>\n      <td>C</td>\n    </tr>\n    <tr>\n      <th>1048573</th>\n      <td>5150487</td>\n      <td>-28</td>\n      <td>C</td>\n    </tr>\n    <tr>\n      <th>1048574</th>\n      <td>5150487</td>\n      <td>-29</td>\n      <td>C</td>\n    </tr>\n  </tbody>\n</table>\n<p>1048575 rows × 3 columns</p>\n</div>"
     },
     "metadata": {},
     "execution_count": 9
    }
   ]
  },
  {
   "cell_type": "code",
   "execution_count": 3,
   "metadata": {},
   "outputs": [
    {
     "output_type": "execute_result",
     "data": {
      "text/plain": [
       "             ID CODE_GENDER FLAG_OWN_CAR FLAG_OWN_REALTY  CNT_CHILDREN  \\\n",
       "0       5008804           M            Y               Y             0   \n",
       "1       5008805           M            Y               Y             0   \n",
       "2       5008806           M            Y               Y             0   \n",
       "3       5008808           F            N               Y             0   \n",
       "4       5008809           F            N               Y             0   \n",
       "...         ...         ...          ...             ...           ...   \n",
       "438552  6840104           M            N               Y             0   \n",
       "438553  6840222           F            N               N             0   \n",
       "438554  6841878           F            N               N             0   \n",
       "438555  6842765           F            N               Y             0   \n",
       "438556  6842885           F            N               Y             0   \n",
       "\n",
       "        AMT_INCOME_TOTAL      NAME_INCOME_TYPE            NAME_EDUCATION_TYPE  \\\n",
       "0             427,500.00               Working               Higher education   \n",
       "1             427,500.00               Working               Higher education   \n",
       "2             112,500.00               Working  Secondary / secondary special   \n",
       "3             270,000.00  Commercial associate  Secondary / secondary special   \n",
       "4             270,000.00  Commercial associate  Secondary / secondary special   \n",
       "...                  ...                   ...                            ...   \n",
       "438552        135,000.00             Pensioner  Secondary / secondary special   \n",
       "438553        103,500.00               Working  Secondary / secondary special   \n",
       "438554         54,000.00  Commercial associate               Higher education   \n",
       "438555         72,000.00             Pensioner  Secondary / secondary special   \n",
       "438556        121,500.00               Working  Secondary / secondary special   \n",
       "\n",
       "          NAME_FAMILY_STATUS  NAME_HOUSING_TYPE  DAYS_BIRTH  DAYS_EMPLOYED  \\\n",
       "0             Civil marriage   Rented apartment      -12005          -4542   \n",
       "1             Civil marriage   Rented apartment      -12005          -4542   \n",
       "2                    Married  House / apartment      -21474          -1134   \n",
       "3       Single / not married  House / apartment      -19110          -3051   \n",
       "4       Single / not married  House / apartment      -19110          -3051   \n",
       "...                      ...                ...         ...            ...   \n",
       "438552             Separated  House / apartment      -22717         365243   \n",
       "438553  Single / not married  House / apartment      -15939          -3007   \n",
       "438554  Single / not married       With parents       -8169           -372   \n",
       "438555               Married  House / apartment      -21673         365243   \n",
       "438556               Married  House / apartment      -18858          -1201   \n",
       "\n",
       "        FLAG_MOBIL  FLAG_WORK_PHONE  FLAG_PHONE  FLAG_EMAIL OCCUPATION_TYPE  \\\n",
       "0                1                1           0           0             NaN   \n",
       "1                1                1           0           0             NaN   \n",
       "2                1                0           0           0  Security staff   \n",
       "3                1                0           1           1     Sales staff   \n",
       "4                1                0           1           1     Sales staff   \n",
       "...            ...              ...         ...         ...             ...   \n",
       "438552           1                0           0           0             NaN   \n",
       "438553           1                0           0           0        Laborers   \n",
       "438554           1                1           0           0     Sales staff   \n",
       "438555           1                0           0           0             NaN   \n",
       "438556           1                0           1           0     Sales staff   \n",
       "\n",
       "        CNT_FAM_MEMBERS  \n",
       "0                  2.00  \n",
       "1                  2.00  \n",
       "2                  2.00  \n",
       "3                  1.00  \n",
       "4                  1.00  \n",
       "...                 ...  \n",
       "438552             1.00  \n",
       "438553             1.00  \n",
       "438554             1.00  \n",
       "438555             2.00  \n",
       "438556             2.00  \n",
       "\n",
       "[438557 rows x 18 columns]"
      ],
      "text/html": "<div>\n<style scoped>\n    .dataframe tbody tr th:only-of-type {\n        vertical-align: middle;\n    }\n\n    .dataframe tbody tr th {\n        vertical-align: top;\n    }\n\n    .dataframe thead th {\n        text-align: right;\n    }\n</style>\n<table border=\"1\" class=\"dataframe\">\n  <thead>\n    <tr style=\"text-align: right;\">\n      <th></th>\n      <th>ID</th>\n      <th>CODE_GENDER</th>\n      <th>FLAG_OWN_CAR</th>\n      <th>FLAG_OWN_REALTY</th>\n      <th>CNT_CHILDREN</th>\n      <th>AMT_INCOME_TOTAL</th>\n      <th>NAME_INCOME_TYPE</th>\n      <th>NAME_EDUCATION_TYPE</th>\n      <th>NAME_FAMILY_STATUS</th>\n      <th>NAME_HOUSING_TYPE</th>\n      <th>DAYS_BIRTH</th>\n      <th>DAYS_EMPLOYED</th>\n      <th>FLAG_MOBIL</th>\n      <th>FLAG_WORK_PHONE</th>\n      <th>FLAG_PHONE</th>\n      <th>FLAG_EMAIL</th>\n      <th>OCCUPATION_TYPE</th>\n      <th>CNT_FAM_MEMBERS</th>\n    </tr>\n  </thead>\n  <tbody>\n    <tr>\n      <th>0</th>\n      <td>5008804</td>\n      <td>M</td>\n      <td>Y</td>\n      <td>Y</td>\n      <td>0</td>\n      <td>427,500.00</td>\n      <td>Working</td>\n      <td>Higher education</td>\n      <td>Civil marriage</td>\n      <td>Rented apartment</td>\n      <td>-12005</td>\n      <td>-4542</td>\n      <td>1</td>\n      <td>1</td>\n      <td>0</td>\n      <td>0</td>\n      <td>NaN</td>\n      <td>2.00</td>\n    </tr>\n    <tr>\n      <th>1</th>\n      <td>5008805</td>\n      <td>M</td>\n      <td>Y</td>\n      <td>Y</td>\n      <td>0</td>\n      <td>427,500.00</td>\n      <td>Working</td>\n      <td>Higher education</td>\n      <td>Civil marriage</td>\n      <td>Rented apartment</td>\n      <td>-12005</td>\n      <td>-4542</td>\n      <td>1</td>\n      <td>1</td>\n      <td>0</td>\n      <td>0</td>\n      <td>NaN</td>\n      <td>2.00</td>\n    </tr>\n    <tr>\n      <th>2</th>\n      <td>5008806</td>\n      <td>M</td>\n      <td>Y</td>\n      <td>Y</td>\n      <td>0</td>\n      <td>112,500.00</td>\n      <td>Working</td>\n      <td>Secondary / secondary special</td>\n      <td>Married</td>\n      <td>House / apartment</td>\n      <td>-21474</td>\n      <td>-1134</td>\n      <td>1</td>\n      <td>0</td>\n      <td>0</td>\n      <td>0</td>\n      <td>Security staff</td>\n      <td>2.00</td>\n    </tr>\n    <tr>\n      <th>3</th>\n      <td>5008808</td>\n      <td>F</td>\n      <td>N</td>\n      <td>Y</td>\n      <td>0</td>\n      <td>270,000.00</td>\n      <td>Commercial associate</td>\n      <td>Secondary / secondary special</td>\n      <td>Single / not married</td>\n      <td>House / apartment</td>\n      <td>-19110</td>\n      <td>-3051</td>\n      <td>1</td>\n      <td>0</td>\n      <td>1</td>\n      <td>1</td>\n      <td>Sales staff</td>\n      <td>1.00</td>\n    </tr>\n    <tr>\n      <th>4</th>\n      <td>5008809</td>\n      <td>F</td>\n      <td>N</td>\n      <td>Y</td>\n      <td>0</td>\n      <td>270,000.00</td>\n      <td>Commercial associate</td>\n      <td>Secondary / secondary special</td>\n      <td>Single / not married</td>\n      <td>House / apartment</td>\n      <td>-19110</td>\n      <td>-3051</td>\n      <td>1</td>\n      <td>0</td>\n      <td>1</td>\n      <td>1</td>\n      <td>Sales staff</td>\n      <td>1.00</td>\n    </tr>\n    <tr>\n      <th>...</th>\n      <td>...</td>\n      <td>...</td>\n      <td>...</td>\n      <td>...</td>\n      <td>...</td>\n      <td>...</td>\n      <td>...</td>\n      <td>...</td>\n      <td>...</td>\n      <td>...</td>\n      <td>...</td>\n      <td>...</td>\n      <td>...</td>\n      <td>...</td>\n      <td>...</td>\n      <td>...</td>\n      <td>...</td>\n      <td>...</td>\n    </tr>\n    <tr>\n      <th>438552</th>\n      <td>6840104</td>\n      <td>M</td>\n      <td>N</td>\n      <td>Y</td>\n      <td>0</td>\n      <td>135,000.00</td>\n      <td>Pensioner</td>\n      <td>Secondary / secondary special</td>\n      <td>Separated</td>\n      <td>House / apartment</td>\n      <td>-22717</td>\n      <td>365243</td>\n      <td>1</td>\n      <td>0</td>\n      <td>0</td>\n      <td>0</td>\n      <td>NaN</td>\n      <td>1.00</td>\n    </tr>\n    <tr>\n      <th>438553</th>\n      <td>6840222</td>\n      <td>F</td>\n      <td>N</td>\n      <td>N</td>\n      <td>0</td>\n      <td>103,500.00</td>\n      <td>Working</td>\n      <td>Secondary / secondary special</td>\n      <td>Single / not married</td>\n      <td>House / apartment</td>\n      <td>-15939</td>\n      <td>-3007</td>\n      <td>1</td>\n      <td>0</td>\n      <td>0</td>\n      <td>0</td>\n      <td>Laborers</td>\n      <td>1.00</td>\n    </tr>\n    <tr>\n      <th>438554</th>\n      <td>6841878</td>\n      <td>F</td>\n      <td>N</td>\n      <td>N</td>\n      <td>0</td>\n      <td>54,000.00</td>\n      <td>Commercial associate</td>\n      <td>Higher education</td>\n      <td>Single / not married</td>\n      <td>With parents</td>\n      <td>-8169</td>\n      <td>-372</td>\n      <td>1</td>\n      <td>1</td>\n      <td>0</td>\n      <td>0</td>\n      <td>Sales staff</td>\n      <td>1.00</td>\n    </tr>\n    <tr>\n      <th>438555</th>\n      <td>6842765</td>\n      <td>F</td>\n      <td>N</td>\n      <td>Y</td>\n      <td>0</td>\n      <td>72,000.00</td>\n      <td>Pensioner</td>\n      <td>Secondary / secondary special</td>\n      <td>Married</td>\n      <td>House / apartment</td>\n      <td>-21673</td>\n      <td>365243</td>\n      <td>1</td>\n      <td>0</td>\n      <td>0</td>\n      <td>0</td>\n      <td>NaN</td>\n      <td>2.00</td>\n    </tr>\n    <tr>\n      <th>438556</th>\n      <td>6842885</td>\n      <td>F</td>\n      <td>N</td>\n      <td>Y</td>\n      <td>0</td>\n      <td>121,500.00</td>\n      <td>Working</td>\n      <td>Secondary / secondary special</td>\n      <td>Married</td>\n      <td>House / apartment</td>\n      <td>-18858</td>\n      <td>-1201</td>\n      <td>1</td>\n      <td>0</td>\n      <td>1</td>\n      <td>0</td>\n      <td>Sales staff</td>\n      <td>2.00</td>\n    </tr>\n  </tbody>\n</table>\n<p>438557 rows × 18 columns</p>\n</div>"
     },
     "metadata": {},
     "execution_count": 3
    }
   ],
   "source": [
    "application_df = pd.read_csv('../data/application_record.csv')\n",
    "application_df"
   ]
  },
  {
   "source": [
    "## 2. Join de los datos\n",
    "\n"
   ],
   "cell_type": "markdown",
   "metadata": {}
  },
  {
   "cell_type": "code",
   "execution_count": 10,
   "metadata": {},
   "outputs": [
    {
     "output_type": "execute_result",
     "data": {
      "text/plain": [
       "        ID  MONTHS_BALANCE STATUS\n",
       "0  5001711               0      X\n",
       "1  5001711              -1      0\n",
       "2  5001711              -2      0\n",
       "3  5001711              -3      0\n",
       "4  5001712               0      C"
      ],
      "text/html": "<div>\n<style scoped>\n    .dataframe tbody tr th:only-of-type {\n        vertical-align: middle;\n    }\n\n    .dataframe tbody tr th {\n        vertical-align: top;\n    }\n\n    .dataframe thead th {\n        text-align: right;\n    }\n</style>\n<table border=\"1\" class=\"dataframe\">\n  <thead>\n    <tr style=\"text-align: right;\">\n      <th></th>\n      <th>ID</th>\n      <th>MONTHS_BALANCE</th>\n      <th>STATUS</th>\n    </tr>\n  </thead>\n  <tbody>\n    <tr>\n      <th>0</th>\n      <td>5001711</td>\n      <td>0</td>\n      <td>X</td>\n    </tr>\n    <tr>\n      <th>1</th>\n      <td>5001711</td>\n      <td>-1</td>\n      <td>0</td>\n    </tr>\n    <tr>\n      <th>2</th>\n      <td>5001711</td>\n      <td>-2</td>\n      <td>0</td>\n    </tr>\n    <tr>\n      <th>3</th>\n      <td>5001711</td>\n      <td>-3</td>\n      <td>0</td>\n    </tr>\n    <tr>\n      <th>4</th>\n      <td>5001712</td>\n      <td>0</td>\n      <td>C</td>\n    </tr>\n  </tbody>\n</table>\n</div>"
     },
     "metadata": {},
     "execution_count": 10
    }
   ],
   "source": [
    "credit_df.head()"
   ]
  },
  {
   "cell_type": "code",
   "execution_count": 11,
   "metadata": {},
   "outputs": [
    {
     "output_type": "execute_result",
     "data": {
      "text/plain": [
       "        ID  MONTHS_BALANCE  STATUS\n",
       "0  5001711               0      -2\n",
       "1  5001711              -1       0\n",
       "2  5001711              -2       0\n",
       "3  5001711              -3       0\n",
       "4  5001712               0      -1"
      ],
      "text/html": "<div>\n<style scoped>\n    .dataframe tbody tr th:only-of-type {\n        vertical-align: middle;\n    }\n\n    .dataframe tbody tr th {\n        vertical-align: top;\n    }\n\n    .dataframe thead th {\n        text-align: right;\n    }\n</style>\n<table border=\"1\" class=\"dataframe\">\n  <thead>\n    <tr style=\"text-align: right;\">\n      <th></th>\n      <th>ID</th>\n      <th>MONTHS_BALANCE</th>\n      <th>STATUS</th>\n    </tr>\n  </thead>\n  <tbody>\n    <tr>\n      <th>0</th>\n      <td>5001711</td>\n      <td>0</td>\n      <td>-2</td>\n    </tr>\n    <tr>\n      <th>1</th>\n      <td>5001711</td>\n      <td>-1</td>\n      <td>0</td>\n    </tr>\n    <tr>\n      <th>2</th>\n      <td>5001711</td>\n      <td>-2</td>\n      <td>0</td>\n    </tr>\n    <tr>\n      <th>3</th>\n      <td>5001711</td>\n      <td>-3</td>\n      <td>0</td>\n    </tr>\n    <tr>\n      <th>4</th>\n      <td>5001712</td>\n      <td>0</td>\n      <td>-1</td>\n    </tr>\n  </tbody>\n</table>\n</div>"
     },
     "metadata": {},
     "execution_count": 11
    }
   ],
   "source": [
    "# Actualizar el valor de la columna status por valores numéricos\n",
    "credit_df['STATUS'] = credit_df['STATUS'].replace({'X':-2, 'C':-1})\n",
    "credit_df['STATUS'] = credit_df['STATUS'].astype('int')\n",
    "credit_df.head()"
   ]
  },
  {
   "cell_type": "code",
   "execution_count": 14,
   "metadata": {},
   "outputs": [
    {
     "output_type": "execute_result",
     "data": {
      "text/plain": [
       "            ID  MONTHS_BALANCE\n",
       "0      5001711               0\n",
       "1      5001712               0\n",
       "2      5001713               0\n",
       "3      5001714               0\n",
       "4      5001715               0\n",
       "...        ...             ...\n",
       "45980  5150482             -11\n",
       "45981  5150483               0\n",
       "45982  5150484               0\n",
       "45983  5150485               0\n",
       "45984  5150487               0\n",
       "\n",
       "[45985 rows x 2 columns]"
      ],
      "text/html": "<div>\n<style scoped>\n    .dataframe tbody tr th:only-of-type {\n        vertical-align: middle;\n    }\n\n    .dataframe tbody tr th {\n        vertical-align: top;\n    }\n\n    .dataframe thead th {\n        text-align: right;\n    }\n</style>\n<table border=\"1\" class=\"dataframe\">\n  <thead>\n    <tr style=\"text-align: right;\">\n      <th></th>\n      <th>ID</th>\n      <th>MONTHS_BALANCE</th>\n    </tr>\n  </thead>\n  <tbody>\n    <tr>\n      <th>0</th>\n      <td>5001711</td>\n      <td>0</td>\n    </tr>\n    <tr>\n      <th>1</th>\n      <td>5001712</td>\n      <td>0</td>\n    </tr>\n    <tr>\n      <th>2</th>\n      <td>5001713</td>\n      <td>0</td>\n    </tr>\n    <tr>\n      <th>3</th>\n      <td>5001714</td>\n      <td>0</td>\n    </tr>\n    <tr>\n      <th>4</th>\n      <td>5001715</td>\n      <td>0</td>\n    </tr>\n    <tr>\n      <th>...</th>\n      <td>...</td>\n      <td>...</td>\n    </tr>\n    <tr>\n      <th>45980</th>\n      <td>5150482</td>\n      <td>-11</td>\n    </tr>\n    <tr>\n      <th>45981</th>\n      <td>5150483</td>\n      <td>0</td>\n    </tr>\n    <tr>\n      <th>45982</th>\n      <td>5150484</td>\n      <td>0</td>\n    </tr>\n    <tr>\n      <th>45983</th>\n      <td>5150485</td>\n      <td>0</td>\n    </tr>\n    <tr>\n      <th>45984</th>\n      <td>5150487</td>\n      <td>0</td>\n    </tr>\n  </tbody>\n</table>\n<p>45985 rows × 2 columns</p>\n</div>"
     },
     "metadata": {},
     "execution_count": 14
    }
   ],
   "source": [
    "# Encontramos el último mes\n",
    "credit_last_month = credit_df.groupby('ID', as_index=False).agg({'MONTHS_BALANCE': 'max'})\n",
    "credit_last_month"
   ]
  },
  {
   "cell_type": "code",
   "execution_count": 16,
   "metadata": {},
   "outputs": [
    {
     "output_type": "execute_result",
     "data": {
      "text/plain": [
       "            ID  MONTHS_BALANCE  STATUS\n",
       "0      5001711               0      -2\n",
       "1      5001712               0      -1\n",
       "2      5001713               0      -2\n",
       "3      5001714               0      -2\n",
       "4      5001715               0      -2\n",
       "...        ...             ...     ...\n",
       "45980  5150482             -11      -1\n",
       "45981  5150483               0      -2\n",
       "45982  5150484               0      -1\n",
       "45983  5150485               0       0\n",
       "45984  5150487               0      -1\n",
       "\n",
       "[45985 rows x 3 columns]"
      ],
      "text/html": "<div>\n<style scoped>\n    .dataframe tbody tr th:only-of-type {\n        vertical-align: middle;\n    }\n\n    .dataframe tbody tr th {\n        vertical-align: top;\n    }\n\n    .dataframe thead th {\n        text-align: right;\n    }\n</style>\n<table border=\"1\" class=\"dataframe\">\n  <thead>\n    <tr style=\"text-align: right;\">\n      <th></th>\n      <th>ID</th>\n      <th>MONTHS_BALANCE</th>\n      <th>STATUS</th>\n    </tr>\n  </thead>\n  <tbody>\n    <tr>\n      <th>0</th>\n      <td>5001711</td>\n      <td>0</td>\n      <td>-2</td>\n    </tr>\n    <tr>\n      <th>1</th>\n      <td>5001712</td>\n      <td>0</td>\n      <td>-1</td>\n    </tr>\n    <tr>\n      <th>2</th>\n      <td>5001713</td>\n      <td>0</td>\n      <td>-2</td>\n    </tr>\n    <tr>\n      <th>3</th>\n      <td>5001714</td>\n      <td>0</td>\n      <td>-2</td>\n    </tr>\n    <tr>\n      <th>4</th>\n      <td>5001715</td>\n      <td>0</td>\n      <td>-2</td>\n    </tr>\n    <tr>\n      <th>...</th>\n      <td>...</td>\n      <td>...</td>\n      <td>...</td>\n    </tr>\n    <tr>\n      <th>45980</th>\n      <td>5150482</td>\n      <td>-11</td>\n      <td>-1</td>\n    </tr>\n    <tr>\n      <th>45981</th>\n      <td>5150483</td>\n      <td>0</td>\n      <td>-2</td>\n    </tr>\n    <tr>\n      <th>45982</th>\n      <td>5150484</td>\n      <td>0</td>\n      <td>-1</td>\n    </tr>\n    <tr>\n      <th>45983</th>\n      <td>5150485</td>\n      <td>0</td>\n      <td>0</td>\n    </tr>\n    <tr>\n      <th>45984</th>\n      <td>5150487</td>\n      <td>0</td>\n      <td>-1</td>\n    </tr>\n  </tbody>\n</table>\n<p>45985 rows × 3 columns</p>\n</div>"
     },
     "metadata": {},
     "execution_count": 16
    }
   ],
   "source": [
    "# Join para obtener el status del último mes\n",
    "credit_record = pd.merge(credit_last_month, credit_df, how= 'inner', on= ['ID','MONTHS_BALANCE'] )\n",
    "credit_record"
   ]
  },
  {
   "cell_type": "code",
   "execution_count": 17,
   "metadata": {},
   "outputs": [
    {
     "output_type": "execute_result",
     "data": {
      "text/plain": [
       "            ID CODE_GENDER FLAG_OWN_CAR FLAG_OWN_REALTY  CNT_CHILDREN  \\\n",
       "0      5008804           M            Y               Y             0   \n",
       "1      5008805           M            Y               Y             0   \n",
       "2      5008806           M            Y               Y             0   \n",
       "3      5008808           F            N               Y             0   \n",
       "4      5008809           F            N               Y             0   \n",
       "...        ...         ...          ...             ...           ...   \n",
       "36452  5149828           M            Y               Y             0   \n",
       "36453  5149834           F            N               Y             0   \n",
       "36454  5149838           F            N               Y             0   \n",
       "36455  5150049           F            N               Y             0   \n",
       "36456  5150337           M            N               Y             0   \n",
       "\n",
       "       AMT_INCOME_TOTAL      NAME_INCOME_TYPE            NAME_EDUCATION_TYPE  \\\n",
       "0            427,500.00               Working               Higher education   \n",
       "1            427,500.00               Working               Higher education   \n",
       "2            112,500.00               Working  Secondary / secondary special   \n",
       "3            270,000.00  Commercial associate  Secondary / secondary special   \n",
       "4            270,000.00  Commercial associate  Secondary / secondary special   \n",
       "...                 ...                   ...                            ...   \n",
       "36452        315,000.00               Working  Secondary / secondary special   \n",
       "36453        157,500.00  Commercial associate               Higher education   \n",
       "36454        157,500.00             Pensioner               Higher education   \n",
       "36455        283,500.00               Working  Secondary / secondary special   \n",
       "36456        112,500.00               Working  Secondary / secondary special   \n",
       "\n",
       "         NAME_FAMILY_STATUS  NAME_HOUSING_TYPE  DAYS_BIRTH  DAYS_EMPLOYED  \\\n",
       "0            Civil marriage   Rented apartment      -12005          -4542   \n",
       "1            Civil marriage   Rented apartment      -12005          -4542   \n",
       "2                   Married  House / apartment      -21474          -1134   \n",
       "3      Single / not married  House / apartment      -19110          -3051   \n",
       "4      Single / not married  House / apartment      -19110          -3051   \n",
       "...                     ...                ...         ...            ...   \n",
       "36452               Married  House / apartment      -17348          -2420   \n",
       "36453               Married  House / apartment      -12387          -1325   \n",
       "36454               Married  House / apartment      -12387          -1325   \n",
       "36455               Married  House / apartment      -17958           -655   \n",
       "36456  Single / not married   Rented apartment       -9188          -1193   \n",
       "\n",
       "       FLAG_MOBIL  FLAG_WORK_PHONE  FLAG_PHONE  FLAG_EMAIL OCCUPATION_TYPE  \\\n",
       "0               1                1           0           0             NaN   \n",
       "1               1                1           0           0             NaN   \n",
       "2               1                0           0           0  Security staff   \n",
       "3               1                0           1           1     Sales staff   \n",
       "4               1                0           1           1     Sales staff   \n",
       "...           ...              ...         ...         ...             ...   \n",
       "36452           1                0           0           0        Managers   \n",
       "36453           1                0           1           1  Medicine staff   \n",
       "36454           1                0           1           1  Medicine staff   \n",
       "36455           1                0           0           0     Sales staff   \n",
       "36456           1                0           0           0        Laborers   \n",
       "\n",
       "       CNT_FAM_MEMBERS  MONTHS_BALANCE  STATUS  \n",
       "0                 2.00               0      -1  \n",
       "1                 2.00               0      -1  \n",
       "2                 2.00               0      -1  \n",
       "3                 1.00               0       0  \n",
       "4                 1.00             -22      -2  \n",
       "...                ...             ...     ...  \n",
       "36452             2.00               0       5  \n",
       "36453             2.00               0      -1  \n",
       "36454             2.00               0      -1  \n",
       "36455             2.00               0       2  \n",
       "36456             1.00               0       0  \n",
       "\n",
       "[36457 rows x 20 columns]"
      ],
      "text/html": "<div>\n<style scoped>\n    .dataframe tbody tr th:only-of-type {\n        vertical-align: middle;\n    }\n\n    .dataframe tbody tr th {\n        vertical-align: top;\n    }\n\n    .dataframe thead th {\n        text-align: right;\n    }\n</style>\n<table border=\"1\" class=\"dataframe\">\n  <thead>\n    <tr style=\"text-align: right;\">\n      <th></th>\n      <th>ID</th>\n      <th>CODE_GENDER</th>\n      <th>FLAG_OWN_CAR</th>\n      <th>FLAG_OWN_REALTY</th>\n      <th>CNT_CHILDREN</th>\n      <th>AMT_INCOME_TOTAL</th>\n      <th>NAME_INCOME_TYPE</th>\n      <th>NAME_EDUCATION_TYPE</th>\n      <th>NAME_FAMILY_STATUS</th>\n      <th>NAME_HOUSING_TYPE</th>\n      <th>DAYS_BIRTH</th>\n      <th>DAYS_EMPLOYED</th>\n      <th>FLAG_MOBIL</th>\n      <th>FLAG_WORK_PHONE</th>\n      <th>FLAG_PHONE</th>\n      <th>FLAG_EMAIL</th>\n      <th>OCCUPATION_TYPE</th>\n      <th>CNT_FAM_MEMBERS</th>\n      <th>MONTHS_BALANCE</th>\n      <th>STATUS</th>\n    </tr>\n  </thead>\n  <tbody>\n    <tr>\n      <th>0</th>\n      <td>5008804</td>\n      <td>M</td>\n      <td>Y</td>\n      <td>Y</td>\n      <td>0</td>\n      <td>427,500.00</td>\n      <td>Working</td>\n      <td>Higher education</td>\n      <td>Civil marriage</td>\n      <td>Rented apartment</td>\n      <td>-12005</td>\n      <td>-4542</td>\n      <td>1</td>\n      <td>1</td>\n      <td>0</td>\n      <td>0</td>\n      <td>NaN</td>\n      <td>2.00</td>\n      <td>0</td>\n      <td>-1</td>\n    </tr>\n    <tr>\n      <th>1</th>\n      <td>5008805</td>\n      <td>M</td>\n      <td>Y</td>\n      <td>Y</td>\n      <td>0</td>\n      <td>427,500.00</td>\n      <td>Working</td>\n      <td>Higher education</td>\n      <td>Civil marriage</td>\n      <td>Rented apartment</td>\n      <td>-12005</td>\n      <td>-4542</td>\n      <td>1</td>\n      <td>1</td>\n      <td>0</td>\n      <td>0</td>\n      <td>NaN</td>\n      <td>2.00</td>\n      <td>0</td>\n      <td>-1</td>\n    </tr>\n    <tr>\n      <th>2</th>\n      <td>5008806</td>\n      <td>M</td>\n      <td>Y</td>\n      <td>Y</td>\n      <td>0</td>\n      <td>112,500.00</td>\n      <td>Working</td>\n      <td>Secondary / secondary special</td>\n      <td>Married</td>\n      <td>House / apartment</td>\n      <td>-21474</td>\n      <td>-1134</td>\n      <td>1</td>\n      <td>0</td>\n      <td>0</td>\n      <td>0</td>\n      <td>Security staff</td>\n      <td>2.00</td>\n      <td>0</td>\n      <td>-1</td>\n    </tr>\n    <tr>\n      <th>3</th>\n      <td>5008808</td>\n      <td>F</td>\n      <td>N</td>\n      <td>Y</td>\n      <td>0</td>\n      <td>270,000.00</td>\n      <td>Commercial associate</td>\n      <td>Secondary / secondary special</td>\n      <td>Single / not married</td>\n      <td>House / apartment</td>\n      <td>-19110</td>\n      <td>-3051</td>\n      <td>1</td>\n      <td>0</td>\n      <td>1</td>\n      <td>1</td>\n      <td>Sales staff</td>\n      <td>1.00</td>\n      <td>0</td>\n      <td>0</td>\n    </tr>\n    <tr>\n      <th>4</th>\n      <td>5008809</td>\n      <td>F</td>\n      <td>N</td>\n      <td>Y</td>\n      <td>0</td>\n      <td>270,000.00</td>\n      <td>Commercial associate</td>\n      <td>Secondary / secondary special</td>\n      <td>Single / not married</td>\n      <td>House / apartment</td>\n      <td>-19110</td>\n      <td>-3051</td>\n      <td>1</td>\n      <td>0</td>\n      <td>1</td>\n      <td>1</td>\n      <td>Sales staff</td>\n      <td>1.00</td>\n      <td>-22</td>\n      <td>-2</td>\n    </tr>\n    <tr>\n      <th>...</th>\n      <td>...</td>\n      <td>...</td>\n      <td>...</td>\n      <td>...</td>\n      <td>...</td>\n      <td>...</td>\n      <td>...</td>\n      <td>...</td>\n      <td>...</td>\n      <td>...</td>\n      <td>...</td>\n      <td>...</td>\n      <td>...</td>\n      <td>...</td>\n      <td>...</td>\n      <td>...</td>\n      <td>...</td>\n      <td>...</td>\n      <td>...</td>\n      <td>...</td>\n    </tr>\n    <tr>\n      <th>36452</th>\n      <td>5149828</td>\n      <td>M</td>\n      <td>Y</td>\n      <td>Y</td>\n      <td>0</td>\n      <td>315,000.00</td>\n      <td>Working</td>\n      <td>Secondary / secondary special</td>\n      <td>Married</td>\n      <td>House / apartment</td>\n      <td>-17348</td>\n      <td>-2420</td>\n      <td>1</td>\n      <td>0</td>\n      <td>0</td>\n      <td>0</td>\n      <td>Managers</td>\n      <td>2.00</td>\n      <td>0</td>\n      <td>5</td>\n    </tr>\n    <tr>\n      <th>36453</th>\n      <td>5149834</td>\n      <td>F</td>\n      <td>N</td>\n      <td>Y</td>\n      <td>0</td>\n      <td>157,500.00</td>\n      <td>Commercial associate</td>\n      <td>Higher education</td>\n      <td>Married</td>\n      <td>House / apartment</td>\n      <td>-12387</td>\n      <td>-1325</td>\n      <td>1</td>\n      <td>0</td>\n      <td>1</td>\n      <td>1</td>\n      <td>Medicine staff</td>\n      <td>2.00</td>\n      <td>0</td>\n      <td>-1</td>\n    </tr>\n    <tr>\n      <th>36454</th>\n      <td>5149838</td>\n      <td>F</td>\n      <td>N</td>\n      <td>Y</td>\n      <td>0</td>\n      <td>157,500.00</td>\n      <td>Pensioner</td>\n      <td>Higher education</td>\n      <td>Married</td>\n      <td>House / apartment</td>\n      <td>-12387</td>\n      <td>-1325</td>\n      <td>1</td>\n      <td>0</td>\n      <td>1</td>\n      <td>1</td>\n      <td>Medicine staff</td>\n      <td>2.00</td>\n      <td>0</td>\n      <td>-1</td>\n    </tr>\n    <tr>\n      <th>36455</th>\n      <td>5150049</td>\n      <td>F</td>\n      <td>N</td>\n      <td>Y</td>\n      <td>0</td>\n      <td>283,500.00</td>\n      <td>Working</td>\n      <td>Secondary / secondary special</td>\n      <td>Married</td>\n      <td>House / apartment</td>\n      <td>-17958</td>\n      <td>-655</td>\n      <td>1</td>\n      <td>0</td>\n      <td>0</td>\n      <td>0</td>\n      <td>Sales staff</td>\n      <td>2.00</td>\n      <td>0</td>\n      <td>2</td>\n    </tr>\n    <tr>\n      <th>36456</th>\n      <td>5150337</td>\n      <td>M</td>\n      <td>N</td>\n      <td>Y</td>\n      <td>0</td>\n      <td>112,500.00</td>\n      <td>Working</td>\n      <td>Secondary / secondary special</td>\n      <td>Single / not married</td>\n      <td>Rented apartment</td>\n      <td>-9188</td>\n      <td>-1193</td>\n      <td>1</td>\n      <td>0</td>\n      <td>0</td>\n      <td>0</td>\n      <td>Laborers</td>\n      <td>1.00</td>\n      <td>0</td>\n      <td>0</td>\n    </tr>\n  </tbody>\n</table>\n<p>36457 rows × 20 columns</p>\n</div>"
     },
     "metadata": {},
     "execution_count": 17
    }
   ],
   "source": [
    "# Join entre aplication y creadit para crear el df final\n",
    "df = pd.merge(application_df, credit_record, how= 'inner', on= ['ID'])\n",
    "df"
   ]
  },
  {
   "source": [
    "## 2. Análisis de los datasets"
   ],
   "cell_type": "markdown",
   "metadata": {}
  },
  {
   "cell_type": "code",
   "execution_count": 7,
   "metadata": {},
   "outputs": [
    {
     "output_type": "execute_result",
     "data": {
      "text/plain": [
       "                ID  MONTHS_BALANCE\n",
       "count 1,048,575.00    1,048,575.00\n",
       "mean  5,068,286.42          -19.14\n",
       "std      46,150.58           14.02\n",
       "min   5,001,711.00          -60.00\n",
       "25%   5,023,644.00          -29.00\n",
       "50%   5,062,104.00          -17.00\n",
       "75%   5,113,856.00           -7.00\n",
       "max   5,150,487.00            0.00"
      ],
      "text/html": "<div>\n<style scoped>\n    .dataframe tbody tr th:only-of-type {\n        vertical-align: middle;\n    }\n\n    .dataframe tbody tr th {\n        vertical-align: top;\n    }\n\n    .dataframe thead th {\n        text-align: right;\n    }\n</style>\n<table border=\"1\" class=\"dataframe\">\n  <thead>\n    <tr style=\"text-align: right;\">\n      <th></th>\n      <th>ID</th>\n      <th>MONTHS_BALANCE</th>\n    </tr>\n  </thead>\n  <tbody>\n    <tr>\n      <th>count</th>\n      <td>1,048,575.00</td>\n      <td>1,048,575.00</td>\n    </tr>\n    <tr>\n      <th>mean</th>\n      <td>5,068,286.42</td>\n      <td>-19.14</td>\n    </tr>\n    <tr>\n      <th>std</th>\n      <td>46,150.58</td>\n      <td>14.02</td>\n    </tr>\n    <tr>\n      <th>min</th>\n      <td>5,001,711.00</td>\n      <td>-60.00</td>\n    </tr>\n    <tr>\n      <th>25%</th>\n      <td>5,023,644.00</td>\n      <td>-29.00</td>\n    </tr>\n    <tr>\n      <th>50%</th>\n      <td>5,062,104.00</td>\n      <td>-17.00</td>\n    </tr>\n    <tr>\n      <th>75%</th>\n      <td>5,113,856.00</td>\n      <td>-7.00</td>\n    </tr>\n    <tr>\n      <th>max</th>\n      <td>5,150,487.00</td>\n      <td>0.00</td>\n    </tr>\n  </tbody>\n</table>\n</div>"
     },
     "metadata": {},
     "execution_count": 7
    }
   ],
   "source": [
    "credit_df.describe()"
   ]
  },
  {
   "cell_type": "code",
   "execution_count": 8,
   "metadata": {},
   "outputs": [
    {
     "output_type": "execute_result",
     "data": {
      "text/plain": [
       "5145767    61\n",
       "5116236    61\n",
       "5037153    61\n",
       "5002523    61\n",
       "5028973    61\n",
       "           ..\n",
       "5149044     1\n",
       "5079047     1\n",
       "5137258     1\n",
       "5023604     1\n",
       "5023029     1\n",
       "Name: ID, Length: 45985, dtype: int64"
      ]
     },
     "metadata": {},
     "execution_count": 8
    }
   ],
   "source": [
    "# Validamos el número de ID de clientes\n",
    "credit_df['ID'].value_counts()"
   ]
  },
  {
   "source": [
    "### 2.1. Application dataset"
   ],
   "cell_type": "markdown",
   "metadata": {}
  },
  {
   "cell_type": "code",
   "execution_count": 47,
   "metadata": {},
   "outputs": [
    {
     "output_type": "execute_result",
     "data": {
      "text/plain": [
       "438557"
      ]
     },
     "metadata": {},
     "execution_count": 47
    }
   ],
   "source": [
    "len(application_df)"
   ]
  },
  {
   "cell_type": "code",
   "execution_count": 48,
   "metadata": {},
   "outputs": [
    {
     "output_type": "execute_result",
     "data": {
      "text/plain": [
       "ID                     0\n",
       "CODE_GENDER            0\n",
       "FLAG_OWN_CAR           0\n",
       "FLAG_OWN_REALTY        0\n",
       "CNT_CHILDREN           0\n",
       "AMT_INCOME_TOTAL       0\n",
       "NAME_INCOME_TYPE       0\n",
       "NAME_EDUCATION_TYPE    0\n",
       "NAME_FAMILY_STATUS     0\n",
       "NAME_HOUSING_TYPE      0\n",
       "DAYS_BIRTH             0\n",
       "DAYS_EMPLOYED          0\n",
       "FLAG_MOBIL             0\n",
       "FLAG_WORK_PHONE        0\n",
       "FLAG_PHONE             0\n",
       "FLAG_EMAIL             0\n",
       "CNT_FAM_MEMBERS        0\n",
       "dtype: int64"
      ]
     },
     "metadata": {},
     "execution_count": 48
    }
   ],
   "source": [
    "application_df.isna().sum()"
   ]
  },
  {
   "source": [
    "El dataset *application_df* cuenta con un total de 438557 observaciones. Únicamente la variable OCCUPATION_TYPE cuenta con un gran número de valores nulos, equivalente al 30.6% del total de registros. Por lo que esta variable no será tomada en cuenta para el presente proyecto, ya que el procentaje de valores nulos es muy alto para rellenarlo utilizando algún método. "
   ],
   "cell_type": "markdown",
   "metadata": {}
  },
  {
   "cell_type": "code",
   "execution_count": 28,
   "metadata": {},
   "outputs": [],
   "source": [
    "application_df = application_df.drop(columns=['OCCUPATION_TYPE'])"
   ]
  },
  {
   "cell_type": "code",
   "execution_count": 29,
   "metadata": {},
   "outputs": [
    {
     "output_type": "execute_result",
     "data": {
      "text/plain": [
       "ID                       int64\n",
       "CODE_GENDER             object\n",
       "FLAG_OWN_CAR            object\n",
       "FLAG_OWN_REALTY         object\n",
       "CNT_CHILDREN             int64\n",
       "AMT_INCOME_TOTAL       float64\n",
       "NAME_INCOME_TYPE        object\n",
       "NAME_EDUCATION_TYPE     object\n",
       "NAME_FAMILY_STATUS      object\n",
       "NAME_HOUSING_TYPE       object\n",
       "DAYS_BIRTH               int64\n",
       "DAYS_EMPLOYED            int64\n",
       "FLAG_MOBIL               int64\n",
       "FLAG_WORK_PHONE          int64\n",
       "FLAG_PHONE               int64\n",
       "FLAG_EMAIL               int64\n",
       "CNT_FAM_MEMBERS        float64\n",
       "dtype: object"
      ]
     },
     "metadata": {},
     "execution_count": 29
    }
   ],
   "source": [
    "# Análisis del tipo de datos\n",
    "application_df.dtypes"
   ]
  },
  {
   "cell_type": "code",
   "execution_count": 50,
   "metadata": {},
   "outputs": [
    {
     "output_type": "execute_result",
     "data": {
      "text/plain": [
       "       AMT_INCOME_TOTAL  CNT_FAM_MEMBERS  CNT_CHILDREN  DAYS_EMPLOYED  \\\n",
       "count        438,557.00       438,557.00    438,557.00     438,557.00   \n",
       "mean         187,524.29             2.19          0.43      60,563.68   \n",
       "std          110,086.85             0.90          0.72     138,767.80   \n",
       "min           26,100.00             1.00          0.00     -17,531.00   \n",
       "25%          121,500.00             2.00          0.00      -3,103.00   \n",
       "50%          160,780.50             2.00          0.00      -1,467.00   \n",
       "75%          225,000.00             3.00          1.00        -371.00   \n",
       "max        6,750,000.00            20.00         19.00     365,243.00   \n",
       "\n",
       "       DAYS_BIRTH  \n",
       "count  438,557.00  \n",
       "mean   -15,997.90  \n",
       "std      4,185.03  \n",
       "min    -25,201.00  \n",
       "25%    -19,483.00  \n",
       "50%    -15,630.00  \n",
       "75%    -12,514.00  \n",
       "max     -7,489.00  "
      ],
      "text/html": "<div>\n<style scoped>\n    .dataframe tbody tr th:only-of-type {\n        vertical-align: middle;\n    }\n\n    .dataframe tbody tr th {\n        vertical-align: top;\n    }\n\n    .dataframe thead th {\n        text-align: right;\n    }\n</style>\n<table border=\"1\" class=\"dataframe\">\n  <thead>\n    <tr style=\"text-align: right;\">\n      <th></th>\n      <th>AMT_INCOME_TOTAL</th>\n      <th>CNT_FAM_MEMBERS</th>\n      <th>CNT_CHILDREN</th>\n      <th>DAYS_EMPLOYED</th>\n      <th>DAYS_BIRTH</th>\n    </tr>\n  </thead>\n  <tbody>\n    <tr>\n      <th>count</th>\n      <td>438,557.00</td>\n      <td>438,557.00</td>\n      <td>438,557.00</td>\n      <td>438,557.00</td>\n      <td>438,557.00</td>\n    </tr>\n    <tr>\n      <th>mean</th>\n      <td>187,524.29</td>\n      <td>2.19</td>\n      <td>0.43</td>\n      <td>60,563.68</td>\n      <td>-15,997.90</td>\n    </tr>\n    <tr>\n      <th>std</th>\n      <td>110,086.85</td>\n      <td>0.90</td>\n      <td>0.72</td>\n      <td>138,767.80</td>\n      <td>4,185.03</td>\n    </tr>\n    <tr>\n      <th>min</th>\n      <td>26,100.00</td>\n      <td>1.00</td>\n      <td>0.00</td>\n      <td>-17,531.00</td>\n      <td>-25,201.00</td>\n    </tr>\n    <tr>\n      <th>25%</th>\n      <td>121,500.00</td>\n      <td>2.00</td>\n      <td>0.00</td>\n      <td>-3,103.00</td>\n      <td>-19,483.00</td>\n    </tr>\n    <tr>\n      <th>50%</th>\n      <td>160,780.50</td>\n      <td>2.00</td>\n      <td>0.00</td>\n      <td>-1,467.00</td>\n      <td>-15,630.00</td>\n    </tr>\n    <tr>\n      <th>75%</th>\n      <td>225,000.00</td>\n      <td>3.00</td>\n      <td>1.00</td>\n      <td>-371.00</td>\n      <td>-12,514.00</td>\n    </tr>\n    <tr>\n      <th>max</th>\n      <td>6,750,000.00</td>\n      <td>20.00</td>\n      <td>19.00</td>\n      <td>365,243.00</td>\n      <td>-7,489.00</td>\n    </tr>\n  </tbody>\n</table>\n</div>"
     },
     "metadata": {},
     "execution_count": 50
    }
   ],
   "source": [
    "# Análisis de variables numéricas\n",
    "application_df[['AMT_INCOME_TOTAL','CNT_FAM_MEMBERS','CNT_CHILDREN','DAYS_EMPLOYED','DAYS_BIRTH']].describe()"
   ]
  },
  {
   "cell_type": "code",
   "execution_count": 53,
   "metadata": {},
   "outputs": [
    {
     "output_type": "stream",
     "name": "stdout",
     "text": [
      "--------------------\nF    294440\nM    144117\nName: CODE_GENDER, dtype: int64\n--------------------\nN    275459\nY    163098\nName: FLAG_OWN_CAR, dtype: int64\n--------------------\nY    304074\nN    134483\nName: FLAG_OWN_REALTY, dtype: int64\n--------------------\nWorking                 226104\nCommercial associate    100757\nPensioner                75493\nState servant            36186\nStudent                     17\nName: NAME_INCOME_TYPE, dtype: int64\n--------------------\nSecondary / secondary special    301821\nHigher education                 117522\nIncomplete higher                 14851\nLower secondary                    4051\nAcademic degree                     312\nName: NAME_EDUCATION_TYPE, dtype: int64\n--------------------\nMarried                 299828\nSingle / not married     55271\nCivil marriage           36532\nSeparated                27251\nWidow                    19675\nName: NAME_FAMILY_STATUS, dtype: int64\n--------------------\nHouse / apartment      393831\nWith parents            19077\nMunicipal apartment     14214\nRented apartment         5974\nOffice apartment         3922\nCo-op apartment          1539\nName: NAME_HOUSING_TYPE, dtype: int64\n--------------------\n1    438557\nName: FLAG_MOBIL, dtype: int64\n--------------------\n0    348156\n1     90401\nName: FLAG_WORK_PHONE, dtype: int64\n--------------------\n0    312353\n1    126204\nName: FLAG_PHONE, dtype: int64\n--------------------\n0    391102\n1     47455\nName: FLAG_EMAIL, dtype: int64\n"
     ]
    }
   ],
   "source": [
    "# Análisis de variable categóricas\n",
    "for column in ['CODE_GENDER','FLAG_OWN_CAR','FLAG_OWN_REALTY','NAME_INCOME_TYPE','NAME_EDUCATION_TYPE','NAME_FAMILY_STATUS','NAME_HOUSING_TYPE','FLAG_MOBIL','FLAG_WORK_PHONE','FLAG_PHONE','FLAG_EMAIL']:\n",
    "    print('--------------------')\n",
    "    print(application_df[column].value_counts())"
   ]
  },
  {
   "cell_type": "code",
   "execution_count": null,
   "metadata": {},
   "outputs": [],
   "source": []
  }
 ]
}