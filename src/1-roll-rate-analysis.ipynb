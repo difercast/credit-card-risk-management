{
 "metadata": {
  "language_info": {
   "codemirror_mode": {
    "name": "ipython",
    "version": 3
   },
   "file_extension": ".py",
   "mimetype": "text/x-python",
   "name": "python",
   "nbconvert_exporter": "python",
   "pygments_lexer": "ipython3",
   "version": 3
  },
  "orig_nbformat": 2
 },
 "nbformat": 4,
 "nbformat_minor": 2,
 "cells": [
  {
   "source": [
    "## Roll Rate Analysis\n",
    "\n",
    "En esta sección, se va a utilizar *Roll Rate Analysis* con el fin de poder determinar de una manera más acorde a los datos, aquellos clientes que se pueden identificar como buenos o malos, dependiendo de cuántos días de atraso se registran en el pago de sus cuentas.\n",
    "\n",
    "Para efectos prácticos, se va a tomar como puntos de análisis, el último mes y el mes anterior, también se va a ignorar a los clientes que para esa fecha no cuentan con un préstamo registrado."
   ],
   "cell_type": "markdown",
   "metadata": {}
  },
  {
   "cell_type": "code",
   "execution_count": null,
   "metadata": {},
   "outputs": [],
   "source": []
  }
 ]
}