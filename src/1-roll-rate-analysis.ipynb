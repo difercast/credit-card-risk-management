{
 "metadata": {
  "language_info": {
   "codemirror_mode": {
    "name": "ipython",
    "version": 3
   },
   "file_extension": ".py",
   "mimetype": "text/x-python",
   "name": "python",
   "nbconvert_exporter": "python",
   "pygments_lexer": "ipython3",
   "version": "3.7.6"
  },
  "orig_nbformat": 2,
  "kernelspec": {
   "name": "python376jvsc74a57bd0b3ba2566441a7c06988d0923437866b63cedc61552a5af99d1f4fb67d367b25f",
   "display_name": "Python 3.7.6 64-bit ('base': conda)"
  },
  "metadata": {
   "interpreter": {
    "hash": "9ce43836c8d3287a06e199a1efd6974587c1d8c7cdf961feda0708cd09e2869c"
   }
  }
 },
 "nbformat": 4,
 "nbformat_minor": 2,
 "cells": [
  {
   "source": [
    "## Roll Rate Analysis\n",
    "\n",
    "En esta sección, se va a utilizar *Roll Rate Analysis* con el fin de poder determinar de una manera más acorde a los datos, aquellos clientes que se pueden identificar como buenos o malos, dependiendo de cuántos días de atraso se registran en el pago de sus cuentas.\n",
    "\n",
    "Para efectos prácticos, se va a tomar como puntos de análisis, el último mes y el mes anterior a este, así como también se va a ignorar a los clientes que para esa fecha no cuentan con un préstamo asignado."
   ],
   "cell_type": "markdown",
   "metadata": {}
  },
  {
   "cell_type": "code",
   "execution_count": 1,
   "metadata": {},
   "outputs": [],
   "source": [
    "import pandas as pd \n",
    "import numpy as np \n",
    "\n",
    "# Se actualiza el formato de números flotantes\n",
    "pd.options.display.float_format = '{:,.2f}'.format"
   ]
  },
  {
   "source": [
    "## 1. Carga de datos"
   ],
   "cell_type": "markdown",
   "metadata": {}
  },
  {
   "cell_type": "code",
   "execution_count": 2,
   "metadata": {},
   "outputs": [
    {
     "output_type": "execute_result",
     "data": {
      "text/plain": [
       "              ID  MONTHS_BALANCE STATUS\n",
       "0        5001711               0      X\n",
       "1        5001711              -1      0\n",
       "2        5001711              -2      0\n",
       "3        5001711              -3      0\n",
       "4        5001712               0      C\n",
       "...          ...             ...    ...\n",
       "1048570  5150487             -25      C\n",
       "1048571  5150487             -26      C\n",
       "1048572  5150487             -27      C\n",
       "1048573  5150487             -28      C\n",
       "1048574  5150487             -29      C\n",
       "\n",
       "[1048575 rows x 3 columns]"
      ],
      "text/html": "<div>\n<style scoped>\n    .dataframe tbody tr th:only-of-type {\n        vertical-align: middle;\n    }\n\n    .dataframe tbody tr th {\n        vertical-align: top;\n    }\n\n    .dataframe thead th {\n        text-align: right;\n    }\n</style>\n<table border=\"1\" class=\"dataframe\">\n  <thead>\n    <tr style=\"text-align: right;\">\n      <th></th>\n      <th>ID</th>\n      <th>MONTHS_BALANCE</th>\n      <th>STATUS</th>\n    </tr>\n  </thead>\n  <tbody>\n    <tr>\n      <th>0</th>\n      <td>5001711</td>\n      <td>0</td>\n      <td>X</td>\n    </tr>\n    <tr>\n      <th>1</th>\n      <td>5001711</td>\n      <td>-1</td>\n      <td>0</td>\n    </tr>\n    <tr>\n      <th>2</th>\n      <td>5001711</td>\n      <td>-2</td>\n      <td>0</td>\n    </tr>\n    <tr>\n      <th>3</th>\n      <td>5001711</td>\n      <td>-3</td>\n      <td>0</td>\n    </tr>\n    <tr>\n      <th>4</th>\n      <td>5001712</td>\n      <td>0</td>\n      <td>C</td>\n    </tr>\n    <tr>\n      <th>...</th>\n      <td>...</td>\n      <td>...</td>\n      <td>...</td>\n    </tr>\n    <tr>\n      <th>1048570</th>\n      <td>5150487</td>\n      <td>-25</td>\n      <td>C</td>\n    </tr>\n    <tr>\n      <th>1048571</th>\n      <td>5150487</td>\n      <td>-26</td>\n      <td>C</td>\n    </tr>\n    <tr>\n      <th>1048572</th>\n      <td>5150487</td>\n      <td>-27</td>\n      <td>C</td>\n    </tr>\n    <tr>\n      <th>1048573</th>\n      <td>5150487</td>\n      <td>-28</td>\n      <td>C</td>\n    </tr>\n    <tr>\n      <th>1048574</th>\n      <td>5150487</td>\n      <td>-29</td>\n      <td>C</td>\n    </tr>\n  </tbody>\n</table>\n<p>1048575 rows × 3 columns</p>\n</div>"
     },
     "metadata": {},
     "execution_count": 2
    }
   ],
   "source": [
    "credit = pd.read_csv('../data/credit_record.csv')\n",
    "credit"
   ]
  },
  {
   "cell_type": "code",
   "execution_count": 3,
   "metadata": {},
   "outputs": [
    {
     "output_type": "execute_result",
     "data": {
      "text/plain": [
       "45985"
      ]
     },
     "metadata": {},
     "execution_count": 3
    }
   ],
   "source": [
    "# Validamos la cantidad de ID (clientes) únicos\n",
    "credit['ID'].nunique()"
   ]
  },
  {
   "source": [
    "## 2. Estructuración de dataset\n",
    "\n",
    "Se recategorizarán los valores `X` y 'C' de la variable *STATUS*, con el fin de mantener únicamente valores numéricos"
   ],
   "cell_type": "markdown",
   "metadata": {}
  },
  {
   "cell_type": "code",
   "execution_count": 4,
   "metadata": {},
   "outputs": [
    {
     "output_type": "execute_result",
     "data": {
      "text/plain": [
       "ID                int64\n",
       "MONTHS_BALANCE    int64\n",
       "STATUS            int32\n",
       "dtype: object"
      ]
     },
     "metadata": {},
     "execution_count": 4
    }
   ],
   "source": [
    "credit['STATUS'] = credit['STATUS'].replace({'X':-2, 'C':-1})\n",
    "credit['STATUS'] = credit['STATUS'].astype('int')\n",
    "credit.dtypes"
   ]
  },
  {
   "cell_type": "code",
   "execution_count": 5,
   "metadata": {},
   "outputs": [
    {
     "output_type": "execute_result",
     "data": {
      "text/plain": [
       "-1    442031\n",
       " 0    383120\n",
       "-2    209230\n",
       " 1     11090\n",
       " 5      1693\n",
       " 2       868\n",
       " 3       320\n",
       " 4       223\n",
       "Name: STATUS, dtype: int64"
      ]
     },
     "metadata": {},
     "execution_count": 5
    }
   ],
   "source": [
    "# Validamos los valores de la variable STATUS\n",
    "credit['STATUS'].value_counts()"
   ]
  },
  {
   "source": [
    "## 3. Roll Rate analysis\n"
   ],
   "cell_type": "markdown",
   "metadata": {}
  },
  {
   "cell_type": "code",
   "execution_count": 6,
   "metadata": {},
   "outputs": [
    {
     "output_type": "execute_result",
     "data": {
      "text/plain": [
       "MONTHS_BALANCE       id  last_month  last_month-1\n",
       "1               5001712       -1.00         -1.00\n",
       "5               5001717       -1.00         -1.00\n",
       "6               5001718       -1.00         -1.00\n",
       "7               5001719       -1.00         -1.00\n",
       "8               5001720        1.00          0.00\n",
       "...                 ...         ...           ...\n",
       "45973           5150475       -1.00         -1.00\n",
       "45976           5150478       -1.00         -1.00\n",
       "45982           5150484       -1.00          0.00\n",
       "45983           5150485        0.00          0.00\n",
       "45984           5150487       -1.00         -1.00\n",
       "\n",
       "[26027 rows x 3 columns]"
      ],
      "text/html": "<div>\n<style scoped>\n    .dataframe tbody tr th:only-of-type {\n        vertical-align: middle;\n    }\n\n    .dataframe tbody tr th {\n        vertical-align: top;\n    }\n\n    .dataframe thead th {\n        text-align: right;\n    }\n</style>\n<table border=\"1\" class=\"dataframe\">\n  <thead>\n    <tr style=\"text-align: right;\">\n      <th>MONTHS_BALANCE</th>\n      <th>id</th>\n      <th>last_month</th>\n      <th>last_month-1</th>\n    </tr>\n  </thead>\n  <tbody>\n    <tr>\n      <th>1</th>\n      <td>5001712</td>\n      <td>-1.00</td>\n      <td>-1.00</td>\n    </tr>\n    <tr>\n      <th>5</th>\n      <td>5001717</td>\n      <td>-1.00</td>\n      <td>-1.00</td>\n    </tr>\n    <tr>\n      <th>6</th>\n      <td>5001718</td>\n      <td>-1.00</td>\n      <td>-1.00</td>\n    </tr>\n    <tr>\n      <th>7</th>\n      <td>5001719</td>\n      <td>-1.00</td>\n      <td>-1.00</td>\n    </tr>\n    <tr>\n      <th>8</th>\n      <td>5001720</td>\n      <td>1.00</td>\n      <td>0.00</td>\n    </tr>\n    <tr>\n      <th>...</th>\n      <td>...</td>\n      <td>...</td>\n      <td>...</td>\n    </tr>\n    <tr>\n      <th>45973</th>\n      <td>5150475</td>\n      <td>-1.00</td>\n      <td>-1.00</td>\n    </tr>\n    <tr>\n      <th>45976</th>\n      <td>5150478</td>\n      <td>-1.00</td>\n      <td>-1.00</td>\n    </tr>\n    <tr>\n      <th>45982</th>\n      <td>5150484</td>\n      <td>-1.00</td>\n      <td>0.00</td>\n    </tr>\n    <tr>\n      <th>45983</th>\n      <td>5150485</td>\n      <td>0.00</td>\n      <td>0.00</td>\n    </tr>\n    <tr>\n      <th>45984</th>\n      <td>5150487</td>\n      <td>-1.00</td>\n      <td>-1.00</td>\n    </tr>\n  </tbody>\n</table>\n<p>26027 rows × 3 columns</p>\n</div>"
     },
     "metadata": {},
     "execution_count": 6
    }
   ],
   "source": [
    "pivot_tb = pd.pivot(credit, index='ID', columns='MONTHS_BALANCE', values='STATUS').reset_index()\n",
    "#pivot_tb.reset_index(inplace=True)\n",
    "pivot_tb = pivot_tb[['ID', 0, -1]]\n",
    "pivot_tb = pivot_tb[(pivot_tb[0].notna()) & (pivot_tb[-1].notna())]\n",
    "pivot_tb = pivot_tb[(pivot_tb[0] != -2) & (pivot_tb[-1] != -2)]\n",
    "pivot_tb = pivot_tb.rename(columns={'ID':'id',0:'last_month', -1:'last_month-1'})\n",
    "pivot_tb"
   ]
  },
  {
   "cell_type": "code",
   "execution_count": 7,
   "metadata": {},
   "outputs": [
    {
     "output_type": "execute_result",
     "data": {
      "text/plain": [
       "MONTHS_BALANCE       id  last_month  last_month-1\n",
       "1               5001712          -1            -1\n",
       "5               5001717          -1            -1\n",
       "6               5001718          -1            -1\n",
       "7               5001719          -1            -1\n",
       "8               5001720           1             0\n",
       "...                 ...         ...           ...\n",
       "45973           5150475          -1            -1\n",
       "45976           5150478          -1            -1\n",
       "45982           5150484          -1             0\n",
       "45983           5150485           0             0\n",
       "45984           5150487          -1            -1\n",
       "\n",
       "[26027 rows x 3 columns]"
      ],
      "text/html": "<div>\n<style scoped>\n    .dataframe tbody tr th:only-of-type {\n        vertical-align: middle;\n    }\n\n    .dataframe tbody tr th {\n        vertical-align: top;\n    }\n\n    .dataframe thead th {\n        text-align: right;\n    }\n</style>\n<table border=\"1\" class=\"dataframe\">\n  <thead>\n    <tr style=\"text-align: right;\">\n      <th>MONTHS_BALANCE</th>\n      <th>id</th>\n      <th>last_month</th>\n      <th>last_month-1</th>\n    </tr>\n  </thead>\n  <tbody>\n    <tr>\n      <th>1</th>\n      <td>5001712</td>\n      <td>-1</td>\n      <td>-1</td>\n    </tr>\n    <tr>\n      <th>5</th>\n      <td>5001717</td>\n      <td>-1</td>\n      <td>-1</td>\n    </tr>\n    <tr>\n      <th>6</th>\n      <td>5001718</td>\n      <td>-1</td>\n      <td>-1</td>\n    </tr>\n    <tr>\n      <th>7</th>\n      <td>5001719</td>\n      <td>-1</td>\n      <td>-1</td>\n    </tr>\n    <tr>\n      <th>8</th>\n      <td>5001720</td>\n      <td>1</td>\n      <td>0</td>\n    </tr>\n    <tr>\n      <th>...</th>\n      <td>...</td>\n      <td>...</td>\n      <td>...</td>\n    </tr>\n    <tr>\n      <th>45973</th>\n      <td>5150475</td>\n      <td>-1</td>\n      <td>-1</td>\n    </tr>\n    <tr>\n      <th>45976</th>\n      <td>5150478</td>\n      <td>-1</td>\n      <td>-1</td>\n    </tr>\n    <tr>\n      <th>45982</th>\n      <td>5150484</td>\n      <td>-1</td>\n      <td>0</td>\n    </tr>\n    <tr>\n      <th>45983</th>\n      <td>5150485</td>\n      <td>0</td>\n      <td>0</td>\n    </tr>\n    <tr>\n      <th>45984</th>\n      <td>5150487</td>\n      <td>-1</td>\n      <td>-1</td>\n    </tr>\n  </tbody>\n</table>\n<p>26027 rows × 3 columns</p>\n</div>"
     },
     "metadata": {},
     "execution_count": 7
    }
   ],
   "source": [
    "pivot_tb['last_month'] = pivot_tb['last_month'].astype('int')\n",
    "pivot_tb['last_month-1'] = pivot_tb['last_month-1'].astype('int')\n",
    "pivot_tb"
   ]
  },
  {
   "cell_type": "code",
   "execution_count": 8,
   "metadata": {},
   "outputs": [
    {
     "output_type": "execute_result",
     "data": {
      "text/plain": [
       "      -1     0     1     2     3     4      5\n",
       "-1 93.07  2.24  0.00  0.00  0.00  0.01   4.68\n",
       " 0 53.95 34.21  3.62  0.33  0.00  0.00   7.89\n",
       " 1 17.65 11.76 35.29 29.41  5.88  0.00   0.00\n",
       " 2 16.67  0.00 16.67  0.00 66.67  0.00   0.00\n",
       " 3  0.00  0.00  0.00  0.00  0.00 90.00  10.00\n",
       " 4  0.00  0.00  0.00  0.00  0.00 98.21   1.79\n",
       " 5  0.00  0.00  0.00  0.00  0.00  0.00 100.00"
      ],
      "text/html": "<div>\n<style scoped>\n    .dataframe tbody tr th:only-of-type {\n        vertical-align: middle;\n    }\n\n    .dataframe tbody tr th {\n        vertical-align: top;\n    }\n\n    .dataframe thead th {\n        text-align: right;\n    }\n</style>\n<table border=\"1\" class=\"dataframe\">\n  <thead>\n    <tr style=\"text-align: right;\">\n      <th></th>\n      <th>-1</th>\n      <th>0</th>\n      <th>1</th>\n      <th>2</th>\n      <th>3</th>\n      <th>4</th>\n      <th>5</th>\n    </tr>\n  </thead>\n  <tbody>\n    <tr>\n      <th>-1</th>\n      <td>93.07</td>\n      <td>2.24</td>\n      <td>0.00</td>\n      <td>0.00</td>\n      <td>0.00</td>\n      <td>0.01</td>\n      <td>4.68</td>\n    </tr>\n    <tr>\n      <th>0</th>\n      <td>53.95</td>\n      <td>34.21</td>\n      <td>3.62</td>\n      <td>0.33</td>\n      <td>0.00</td>\n      <td>0.00</td>\n      <td>7.89</td>\n    </tr>\n    <tr>\n      <th>1</th>\n      <td>17.65</td>\n      <td>11.76</td>\n      <td>35.29</td>\n      <td>29.41</td>\n      <td>5.88</td>\n      <td>0.00</td>\n      <td>0.00</td>\n    </tr>\n    <tr>\n      <th>2</th>\n      <td>16.67</td>\n      <td>0.00</td>\n      <td>16.67</td>\n      <td>0.00</td>\n      <td>66.67</td>\n      <td>0.00</td>\n      <td>0.00</td>\n    </tr>\n    <tr>\n      <th>3</th>\n      <td>0.00</td>\n      <td>0.00</td>\n      <td>0.00</td>\n      <td>0.00</td>\n      <td>0.00</td>\n      <td>90.00</td>\n      <td>10.00</td>\n    </tr>\n    <tr>\n      <th>4</th>\n      <td>0.00</td>\n      <td>0.00</td>\n      <td>0.00</td>\n      <td>0.00</td>\n      <td>0.00</td>\n      <td>98.21</td>\n      <td>1.79</td>\n    </tr>\n    <tr>\n      <th>5</th>\n      <td>0.00</td>\n      <td>0.00</td>\n      <td>0.00</td>\n      <td>0.00</td>\n      <td>0.00</td>\n      <td>0.00</td>\n      <td>100.00</td>\n    </tr>\n  </tbody>\n</table>\n</div>"
     },
     "metadata": {},
     "execution_count": 8
    }
   ],
   "source": [
    "# Generamos la matriz de Transición\n",
    "matriz = np.zeros((7,7),float)\n",
    "\n",
    "for i in range(-1, 6):\n",
    "\n",
    "    for j in range(-1, 6):\n",
    "        matriz[i,j] = pivot_tb.loc[(pivot_tb['last_month-1']==i) & (pivot_tb['last_month']==j),'last_month-1'].count()\n",
    "        matriz[i,j] = (matriz[i,j]*100)/ pivot_tb.loc[pivot_tb['last_month-1']==i,'last_month-1'].count()\n",
    "\n",
    "    \n",
    "\n",
    "matriz_df = pd.DataFrame(matriz, columns=[-1,0,1,2,3,4,5], index=[-1,0,1,2,3,4,5])\n",
    "matriz_df"
   ]
  },
  {
   "source": [
    "## 4. Conclusiones\n",
    "\n",
    "Realizando un análisis *roll back* y *roll forward* se puede identificar que los cliente con un STATUS 2 en adelante cuentan con una mayor probabilidad de aumentar sus días de atraso en los pagos en relación con aquellos clientes con STATUS -1, 0 y 1.\n",
    "\n",
    "Por lo que para el presente análisis, los clientes con estatus -1, 0, y 1 serán etiquetados como *buenos clientes* y en cambio los clientes con status 2, 3, 4 y 5 se etiquetarán como *malos clientes*."
   ],
   "cell_type": "markdown",
   "metadata": {}
  },
  {
   "cell_type": "code",
   "execution_count": null,
   "metadata": {},
   "outputs": [],
   "source": []
  }
 ]
}